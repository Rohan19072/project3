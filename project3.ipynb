{
 "cells": [
  {
   "cell_type": "markdown",
   "id": "2342813f",
   "metadata": {},
   "source": [
    "## Student Name: \n",
    "## Student Email:"
   ]
  },
  {
   "cell_type": "markdown",
   "id": "84e6ab65",
   "metadata": {},
   "source": [
    "# Project 3: The Smart City Slicker\n",
    "\n",
    "Imagine you are a stakeholder in a rising Smart City and want to know more about themes and concepts about existing smart cities. You also want to know where does your smart city place among others. In this project, you will perform \n",
    "exploratory data analysis, often shortened to EDA, to examine a data from the [2015 Smart City Challenge](https://www.transportation.gov/smartcity) to find facts about the data and communicating those facts through text analysis and visualizations.\n",
    "\n",
    "In order to explore the data and visualize it, some modifications might need to be made to the data along the way. This is often referred to as data preprocessing or cleaning.\n",
    "Though data preprocessing is technically different from EDA, EDA often exposes problems with the data that need to be fixed in order to continue exploring.\n",
    "Because of this tight coupling, you have to clean the data as necessary to help understand the data.\n",
    "\n",
    "In this project, you will apply your knowledge about data cleaning, machine learning, visualizations, and databases to explore smart city applications.\n",
    "\n",
    "**Part 1** of the notebook will explore and clean the data. \\\n",
    "**Part 2** will take the results of the preprocessed data to create models and visualizations.\n",
    "\n",
    "Empty cells are code cells. \n",
    "Cells denoted with [Your Answer Here] are markdown cells.\n",
    "Edit and add as many cells as needed."
   ]
  },
  {
   "cell_type": "markdown",
   "id": "6e8dcba1",
   "metadata": {},
   "source": [
    "Output file for this notebook is shown as a table for display purposes. Note: The city name can be Norman, OK or OK Norman.\n",
    "\n",
    "| city | raw text | clean text | clusterid | topicids | summary | keywords|\n",
    "| -- | -- | -- | -- | -- | -- | -- |\n",
    "|Norman, OK | Test, test , and testing. | test test test | 0 | T1, T2| test | test |"
   ]
  },
  {
   "cell_type": "markdown",
   "id": "89fd47ce",
   "metadata": {},
   "source": [
    "## Introduction\n",
    "The Dataset: 2015 Smart City Challenge Applicants (non-finalist).\n",
    "In this project you will use the applicant's PDFs as a dataset.\n",
    "The dataset is from the U.S Department of Transportation Smart City Challenge.\n",
    "\n",
    "On the website page for the data, you can find some basic information about the challenge. This is an interesting dataset. Think of the questions that you might be able to answer! A few could be:\n",
    "\n",
    "1. Can I identify frequently occurring words that could be removed during data preprocessing?\n",
    "2. Where are the applicants from?\n",
    "3. Are there multiple entries for the same city in different applicantions?\n",
    "4. What are the major themes and concepts from the smart city applicants?\n",
    "\n",
    "Let's load the data!"
   ]
  },
  {
   "cell_type": "markdown",
   "id": "7aace966",
   "metadata": {},
   "source": [
    "## Loading and Handling files\n",
    "\n",
    "Load data from `smartcity/`. \n",
    "\n",
    "To extract the data from the pdf files, use the [pypdf.pdf.PdfFileReader](https://pypdf.readthedocs.io/en/stable/index.html) class.\n",
    "It will allow you to extract pages and pdf files and add them to a data structure (dataframe, list, dictionary, etc).\n",
    "To install the module, use the command `pipenv install pypdf`.\n",
    "You only need to handle PDF files, handling docx is not necessary."
   ]
  },
  {
   "cell_type": "code",
   "execution_count": 11,
   "id": "2ce42f89",
   "metadata": {},
   "outputs": [],
   "source": [
    "import pypdf\n",
    "import pandas as pd\n",
    "import pypdf\n",
    "import re\n",
    "import glob\n",
    "import os\n",
    "import numpy as np"
   ]
  },
  {
   "cell_type": "markdown",
   "id": "d8ed6e32",
   "metadata": {},
   "source": [
    "Create a data structure to add the city name and raw text. You can choose to split the city name from the file."
   ]
  },
  {
   "cell_type": "code",
   "execution_count": 12,
   "id": "0d0bf854",
   "metadata": {
    "scrolled": true
   },
   "outputs": [
    {
     "name": "stdout",
     "output_type": "stream",
     "text": [
      "smartcity\\AK Anchorage.pdf\n",
      "smartcity\\AL Birmingham.pdf\n",
      "smartcity\\AL Montgomery.pdf\n",
      "smartcity\\AZ Scottsdale AZ.pdf\n",
      "smartcity\\AZ Tucson.pdf\n",
      "smartcity\\CA Chula Vista.pdf\n",
      "smartcity\\CA Fremont.pdf\n",
      "smartcity\\CA Fresno.pdf\n",
      "smartcity\\CA Long Beach.pdf\n",
      "smartcity\\CA Moreno Valley.pdf\n",
      "smartcity\\CA Oakland.pdf\n",
      "smartcity\\CA Oceanside.pdf\n",
      "smartcity\\CA Riverside.pdf\n",
      "smartcity\\CA Sacramento.pdf\n",
      "smartcity\\CA San Jose_0.pdf\n",
      "smartcity\\CT NewHaven.pdf\n",
      "smartcity\\DC_0.pdf\n",
      "smartcity\\FL Jacksonville.pdf\n",
      "smartcity\\FL Miami.pdf\n",
      "smartcity\\FL Orlando.pdf\n",
      "smartcity\\FL St. Petersburg.pdf\n",
      "smartcity\\FL Tallahassee.pdf\n",
      "smartcity\\FL Tampa.pdf\n",
      "smartcity\\GA Atlanta.pdf\n",
      "smartcity\\GA Brookhaven.pdf\n",
      "smartcity\\IA Des Moines.pdf\n",
      "smartcity\\IN Indianapolis.pdf\n",
      "smartcity\\KY Louisville.pdf\n",
      "smartcity\\LA Baton Rouge.pdf\n",
      "smartcity\\LA New Orleans.pdf\n",
      "smartcity\\LA Shreveport.pdf\n",
      "smartcity\\MA Boston.pdf\n",
      "smartcity\\MD Baltimore.pdf\n",
      "smartcity\\MI Detroit.pdf\n",
      "smartcity\\MI Port Huron and Marysville.pdf\n",
      "smartcity\\MN Minneapolis St Paul.pdf\n",
      "smartcity\\MO St. Louis.pdf\n",
      "smartcity\\NC Charlotte.pdf\n",
      "smartcity\\NC Greensboro.pdf\n",
      "smartcity\\NC Raleigh.pdf\n",
      "smartcity\\NE Lincoln.pdf\n",
      "smartcity\\NE Omaha.pdf\n",
      "smartcity\\NJ Jersey City.pdf\n",
      "smartcity\\NJ Newark.pdf\n",
      "smartcity\\NV Las Vegas.pdf\n",
      "smartcity\\NV Reno.pdf\n",
      "smartcity\\NY Albany Troy Schenectady Saratoga Springs.pdf\n",
      "smartcity\\NY Buffalo.pdf\n",
      "smartcity\\NY Mt Vernon Yonkers New Rochelle.pdf\n",
      "smartcity\\NY Rochester.pdf\n",
      "smartcity\\OH Akron.pdf\n",
      "smartcity\\OH Canton.pdf\n",
      "smartcity\\OH Cleveland.pdf\n",
      "smartcity\\OH Toledo.pdf\n",
      "smartcity\\OK Oklahoma City.pdf\n",
      "smartcity\\OK Tulsa.pdf\n",
      "smartcity\\RI Providence.pdf\n",
      "smartcity\\SC Greenville.pdf\n",
      "smartcity\\TN Chattanooga.pdf\n",
      "smartcity\\TN Memphis.pdf\n",
      "smartcity\\TN Nashville.pdf\n",
      "smartcity\\TX Lubbock.pdf\n",
      "smartcity\\VA Newport News.pdf\n",
      "smartcity\\VA Norfolk.pdf\n",
      "smartcity\\VA Richmond.pdf\n",
      "smartcity\\VA Virginia Beach.pdf\n",
      "smartcity\\WA Seattle.pdf\n",
      "smartcity\\WA Spokane.pdf\n",
      "smartcity\\WI Madison.pdf\n"
     ]
    }
   ],
   "source": [
    "df2 = pd.DataFrame(columns = ['City','Text'])\n",
    "#your full path of directory\n",
    "mypath = \"smartcity\"\n",
    "for file in glob.glob(mypath + \"/*.pdf\"):\n",
    "    print(file)\n",
    "    text2=''\n",
    "    if file.endswith('.pdf'):\n",
    "        pdf = pypdf.PdfReader(file)\n",
    "        for i in range(len(pdf.pages)):\n",
    "            page = pdf.pages[i]\n",
    "            text2 = text2 + page.extract_text().strip()\n",
    "        df2.loc[len(df2)+1] = [file,text2]\n",
    "            "
   ]
  },
  {
   "cell_type": "code",
   "execution_count": 13,
   "id": "ee0f64d2",
   "metadata": {},
   "outputs": [],
   "source": [
    "def clean_title(city):\n",
    "    city = city.replace('smartcity','').replace('.pdf','').replace('\\\\','')\n",
    "    return city"
   ]
  },
  {
   "cell_type": "code",
   "execution_count": 14,
   "id": "eab3d442",
   "metadata": {},
   "outputs": [],
   "source": [
    "Smart_City_Df = df2.copy()"
   ]
  },
  {
   "cell_type": "code",
   "execution_count": 15,
   "id": "ef9b6f8d",
   "metadata": {},
   "outputs": [],
   "source": [
    "Smart_City_Df['City'] = Smart_City_Df['City'].apply(clean_title)\n",
    "Smart_City_Df['Text'].replace('', np.nan, inplace=True)"
   ]
  },
  {
   "cell_type": "code",
   "execution_count": 16,
   "id": "3f86e4a9",
   "metadata": {},
   "outputs": [],
   "source": [
    "#Removed countries\n",
    "removed_countries = list(Smart_City_Df[Smart_City_Df['Text'].isna()].City.values)\n",
    "Smart_City_Df.dropna(inplace=True)"
   ]
  },
  {
   "cell_type": "code",
   "execution_count": 17,
   "id": "fbcbb3f4",
   "metadata": {},
   "outputs": [],
   "source": [
    "# Use the apply method with a lambda function to apply the re.sub method to the 'City' column\n",
    "Smart_City_Df['clean'] = Smart_City_Df['Text'].apply(lambda x: re.sub(r'\\n|\\r', ' ', x))\n",
    "Smart_City_Df['clean'] = Smart_City_Df['clean'].apply(lambda x: re.sub(r' +', ' ', x))                            \n",
    "Smart_City_Df['clean'] = Smart_City_Df['clean'].apply(str.strip)                                                  "
   ]
  },
  {
   "cell_type": "markdown",
   "id": "5019a8c3",
   "metadata": {},
   "source": [
    "## Cleaning Up PDFs\n",
    "\n",
    "One of the more frustrating aspects of PDF is loading the data into a readable format. The first order of business will be to preprocess the data. To start, you can use code provided by Text Analytics with Python, [Chapter 3](https://github.com/dipanjanS/text-analytics-with-python/blob/master/New-Second-Edition/Ch03%20-%20Processing%20and%20Understanding%20Text/Ch03a%20-%20Text%20Wrangling.ipynb): [contractions.py](https://github.com/dipanjanS/text-analytics-with-python/blob/master/New-Second-Edition/Ch05%20-%20Text%20Classification/contractions.py) (Pages 136-137), and [text_normalizer.py](https://github.com/dipanjanS/text-analytics-with-python/blob/master/New-Second-Edition/Ch05%20-%20Text%20Classification/text_normalizer.py) (Pages 155-156). Feel free to download the scripts or add the code directly to the notebook (please note this code is performed on dataframes).\n",
    "\n",
    "In addition to the data cleaning provided by the textbook, you will need to:\n",
    "1. Consider removing terms that may effect clustering and topic modeling. Words to consider are cities, states, common words (smart, city, page, etc.). Keep in mind n-gram combinations are important; this can also be revisited later depending on your model's performance.\n",
    "2. Check the data to remove applicants that text was not processed correctly. Do not remove more than 15 cities from the data.\n"
   ]
  },
  {
   "cell_type": "code",
   "execution_count": 587,
   "id": "b6b949d6",
   "metadata": {},
   "outputs": [
    {
     "name": "stdout",
     "output_type": "stream",
     "text": [
      "^C\n"
     ]
    },
    {
     "name": "stderr",
     "output_type": "stream",
     "text": [
      "failed to create process.\n"
     ]
    }
   ],
   "source": [
    "!pip install neattext\n",
    "!conda install neattext"
   ]
  },
  {
   "cell_type": "code",
   "execution_count": 18,
   "id": "5da387f8",
   "metadata": {},
   "outputs": [],
   "source": [
    "import re\n",
    "import nltk\n",
    "import neattext.functions as nfx\n",
    "from nltk.stem import WordNetLemmatizer\n",
    "from nltk.stem.porter import PorterStemmer\n",
    "from nltk.corpus import gutenberg\n",
    "from pprint import pprint\n",
    "import numpy as np"
   ]
  },
  {
   "cell_type": "code",
   "execution_count": 9,
   "id": "39d25c54",
   "metadata": {},
   "outputs": [
    {
     "name": "stderr",
     "output_type": "stream",
     "text": [
      "[nltk_data] Downloading package punkt to\n",
      "[nltk_data]     C:\\Users\\Rohan\\AppData\\Roaming\\nltk_data...\n",
      "[nltk_data]   Package punkt is already up-to-date!\n"
     ]
    },
    {
     "data": {
      "text/plain": [
       "True"
      ]
     },
     "execution_count": 9,
     "metadata": {},
     "output_type": "execute_result"
    }
   ],
   "source": [
    "\n",
    "nltk.download('punkt')"
   ]
  },
  {
   "cell_type": "code",
   "execution_count": 19,
   "id": "b99b3602",
   "metadata": {},
   "outputs": [],
   "source": [
    "import unicodedata\n",
    "\n",
    "def remove_accented_chars(text):\n",
    "    text = unicodedata.normalize('NFKD', text).encode('ascii', 'ignore').decode('utf-8', 'ignore')\n",
    "    return text"
   ]
  },
  {
   "cell_type": "code",
   "execution_count": 20,
   "id": "60f05835",
   "metadata": {},
   "outputs": [],
   "source": [
    "Smart_City_Df[\"clean\"] = Smart_City_Df[\"clean\"].apply(remove_accented_chars)"
   ]
  },
  {
   "cell_type": "code",
   "execution_count": 12,
   "id": "0fbdc5f2",
   "metadata": {},
   "outputs": [
    {
     "name": "stdout",
     "output_type": "stream",
     "text": [
      "Requirement already satisfied: contractions in c:\\users\\rohan\\appdata\\local\\programs\\python\\python39\\lib\\site-packages (0.1.73)\n",
      "Requirement already satisfied: textsearch>=0.0.21 in c:\\users\\rohan\\appdata\\local\\programs\\python\\python39\\lib\\site-packages (from contractions) (0.0.24)\n",
      "Requirement already satisfied: anyascii in c:\\users\\rohan\\appdata\\local\\programs\\python\\python39\\lib\\site-packages (from textsearch>=0.0.21->contractions) (0.3.2)\n",
      "Requirement already satisfied: pyahocorasick in c:\\users\\rohan\\appdata\\local\\programs\\python\\python39\\lib\\site-packages (from textsearch>=0.0.21->contractions) (2.0.0)\n"
     ]
    }
   ],
   "source": [
    "!pip install contractions"
   ]
  },
  {
   "cell_type": "code",
   "execution_count": 231,
   "id": "dfba8e2d",
   "metadata": {},
   "outputs": [
    {
     "data": {
      "text/plain": [
       "<module 'contractions' from 'c:\\\\users\\\\rohan\\\\appdata\\\\local\\\\programs\\\\python\\\\python39\\\\lib\\\\site-packages\\\\contractions\\\\__init__.py'>"
      ]
     },
     "execution_count": 231,
     "metadata": {},
     "output_type": "execute_result"
    }
   ],
   "source": [
    "contractions"
   ]
  },
  {
   "cell_type": "code",
   "execution_count": 21,
   "id": "8c3bbdcf",
   "metadata": {},
   "outputs": [],
   "source": [
    "# import library\n",
    "import contractions\n",
    "def expand_contractions(text):\n",
    "    # creating an empty list\n",
    "    expanded_words = []   \n",
    "    for word in text.split():\n",
    "      # using contractions.fix to expand the shortened words\n",
    "      expanded_words.append(contractions.fix(word))  \n",
    "\n",
    "    expanded_text = ' '.join(expanded_words)\n",
    "    return expanded_text"
   ]
  },
  {
   "cell_type": "code",
   "execution_count": 22,
   "id": "ecca8c2b",
   "metadata": {},
   "outputs": [],
   "source": [
    "Smart_City_Df[\"clean\"] = Smart_City_Df[\"clean\"].apply(expand_contractions)"
   ]
  },
  {
   "cell_type": "code",
   "execution_count": 23,
   "id": "f569b54c",
   "metadata": {},
   "outputs": [],
   "source": [
    "def remove_special_characters(text, remove_digits=False):\n",
    "    pattern = r'[^a-zA-z0-9\\s]' if not remove_digits else r'[^a-zA-z\\s]'\n",
    "    text = re.sub(pattern, '', text)\n",
    "    return text\n",
    "Smart_City_Df[\"clean\"] = Smart_City_Df[\"clean\"].apply(remove_special_characters)"
   ]
  },
  {
   "cell_type": "code",
   "execution_count": 24,
   "id": "454578d8",
   "metadata": {},
   "outputs": [],
   "source": [
    "def pre_process(text):\n",
    "    # Remove links\n",
    "    text = re.sub('http://\\S+|https://\\S+', '', text)\n",
    "    text = re.sub('http[s]?://\\S+', '', text)\n",
    "    text = re.sub(r\"http\\S+\", \"\", text)\n",
    " \n",
    "    # Convert HTML references\n",
    "    text = re.sub('&amp', 'and', text)\n",
    "    text = re.sub('&lt', '<', text)\n",
    "    text = re.sub('&gt', '>', text)\n",
    "\n",
    "    # Remove new line characters\n",
    "    text = re.sub('[\\r\\n]+', ' ', text)\n",
    "    \n",
    "    # Remove mentions\n",
    "    text = re.sub(r'@\\w*', '', text)\n",
    "    \n",
    "    # Remove hashtags\n",
    "    text = re.sub(r'#\\w*', '', text)\n",
    "\n",
    "    # Remove multiple space characters\n",
    "    text = re.sub('\\s+',' ', text)\n",
    "    \n",
    "    # Convert to lowercase\n",
    "    text = text.lower()\n",
    "    \n",
    "\n",
    "    # Apply NeatText functions\n",
    "    text = nfx.remove_emojis(text)\n",
    "    text = nfx.remove_numbers(text)\n",
    "    text = nfx.remove_emails(text)\n",
    "    text = nfx.remove_stopwords(text)\n",
    "    text = nfx.remove_puncts(text)\n",
    "    text = nfx.remove_userhandles(text)\n",
    "    text = nfx.remove_accents(text)\n",
    "    text = nfx.remove_accents(text)\n",
    "    text = nfx.remove_special_characters(text)\n",
    "\n",
    "    return text\n",
    "Smart_City_Df['clean'] = Smart_City_Df['clean'].apply(pre_process)"
   ]
  },
  {
   "cell_type": "code",
   "execution_count": 25,
   "id": "ca9b6e75",
   "metadata": {},
   "outputs": [],
   "source": [
    "import nltk\n",
    "from nltk.corpus import wordnet\n",
    "\n",
    "def remove_repeated_characters(tokens):\n",
    "    repeat_pattern = re.compile(r'(\\w*)(\\w)\\2(\\w*)')\n",
    "    match_substitution = r'\\1\\2\\3'\n",
    "    def replace(old_word):\n",
    "        if wordnet.synsets(old_word):\n",
    "            return old_word\n",
    "        new_word = repeat_pattern.sub(match_substitution, old_word)\n",
    "        return replace(new_word) if new_word != old_word else new_word\n",
    "            \n",
    "    correct_tokens = [replace(word) for word in tokens]\n",
    "    return correct_tokens\n"
   ]
  },
  {
   "cell_type": "code",
   "execution_count": 18,
   "id": "010597e0",
   "metadata": {},
   "outputs": [
    {
     "name": "stderr",
     "output_type": "stream",
     "text": [
      "[nltk_data] Downloading package wordnet to\n",
      "[nltk_data]     C:\\Users\\Rohan\\AppData\\Roaming\\nltk_data...\n",
      "[nltk_data]   Package wordnet is already up-to-date!\n",
      "[nltk_data] Downloading package omw-1.4 to\n",
      "[nltk_data]     C:\\Users\\Rohan\\AppData\\Roaming\\nltk_data...\n"
     ]
    },
    {
     "data": {
      "text/plain": [
       "True"
      ]
     },
     "execution_count": 18,
     "metadata": {},
     "output_type": "execute_result"
    }
   ],
   "source": [
    "nltk.download('wordnet')\n",
    "nltk.download('omw-1.4')"
   ]
  },
  {
   "cell_type": "code",
   "execution_count": 26,
   "id": "dcf00e7c",
   "metadata": {},
   "outputs": [],
   "source": [
    "for i in range(0,len(Smart_City_Df.index)):\n",
    "    sample_sentence = Smart_City_Df['clean'].iloc[i]\n",
    "    correct_tokens = remove_repeated_characters(nltk.word_tokenize(sample_sentence))\n",
    "    Smart_City_Df['clean'].iloc[i] = ' '.join(correct_tokens)"
   ]
  },
  {
   "cell_type": "code",
   "execution_count": 27,
   "id": "a2d2329e",
   "metadata": {},
   "outputs": [],
   "source": [
    "import re, collections"
   ]
  },
  {
   "cell_type": "code",
   "execution_count": 28,
   "id": "7dbd898f",
   "metadata": {},
   "outputs": [],
   "source": [
    "def tokens(text): \n",
    "    \"\"\"\n",
    "    Get all words from the corpus\n",
    "    \"\"\"\n",
    "    return re.findall('[a-z]+', text.lower()) "
   ]
  },
  {
   "cell_type": "code",
   "execution_count": 29,
   "id": "d939614b",
   "metadata": {
    "scrolled": true
   },
   "outputs": [
    {
     "data": {
      "text/plain": [
       "[('city', 10137),\n",
       " ('smart', 5762),\n",
       " ('data', 5588),\n",
       " ('transportation', 4380),\n",
       " ('transit', 3007),\n",
       " ('system', 2897),\n",
       " ('traffic', 2783),\n",
       " ('public', 2401),\n",
       " ('vehicles', 2096),\n",
       " ('new', 2028),\n",
       " ('project', 2028),\n",
       " ('vision', 1987),\n",
       " ('vehicle', 1978),\n",
       " ('technology', 1931),\n",
       " ('infrastructure', 1903),\n",
       " ('information', 1838),\n",
       " ('use', 1817),\n",
       " ('mobility', 1545),\n",
       " ('services', 1521),\n",
       " ('management', 1479),\n",
       " ('connected', 1476),\n",
       " ('e', 1474),\n",
       " ('challenge', 1391),\n",
       " ('systems', 1386),\n",
       " ('provide', 1368),\n",
       " ('network', 1342),\n",
       " ('development', 1299),\n",
       " ('service', 1289),\n",
       " ('parking', 1271),\n",
       " ('urban', 1261),\n",
       " ('area', 1251),\n",
       " ('time', 1187),\n",
       " ('existing', 1159),\n",
       " ('support', 1133),\n",
       " ('program', 1130),\n",
       " ('partners', 1082),\n",
       " ('safety', 1030),\n",
       " ('center', 1027),\n",
       " ('plan', 992),\n",
       " ('bus', 985),\n",
       " ('community', 983),\n",
       " ('cities', 975),\n",
       " ('including', 972),\n",
       " ('electric', 968),\n",
       " ('citys', 938),\n",
       " ('private', 928),\n",
       " ('technologies', 927),\n",
       " ('planning', 924),\n",
       " ('state', 918),\n",
       " ('regional', 901),\n",
       " ('travel', 899),\n",
       " ('access', 876),\n",
       " ('downtown', 861),\n",
       " ('local', 858),\n",
       " ('open', 844),\n",
       " ('st', 810),\n",
       " ('signal', 805),\n",
       " ('work', 789),\n",
       " ('improve', 766),\n",
       " ('projects', 751),\n",
       " ('key', 735),\n",
       " ('sharing', 722),\n",
       " ('n', 721),\n",
       " ('proposed', 717),\n",
       " ('elements', 715),\n",
       " ('population', 713),\n",
       " ('areas', 712),\n",
       " ('university', 703),\n",
       " ('include', 701),\n",
       " ('standards', 700),\n",
       " ('c', 697),\n",
       " ('residents', 697),\n",
       " ('based', 681),\n",
       " ('available', 681),\n",
       " ('application', 679),\n",
       " ('miles', 667),\n",
       " ('team', 664),\n",
       " ('element', 648),\n",
       " ('department', 642),\n",
       " ('implementation', 634),\n",
       " ('sensors', 630),\n",
       " ('region', 630),\n",
       " ('business', 625),\n",
       " ('operations', 621),\n",
       " ('people', 620),\n",
       " ('deployment', 619),\n",
       " ('currently', 616),\n",
       " ('approach', 614),\n",
       " ('economic', 612),\n",
       " ('performance', 602),\n",
       " ('architecture', 601),\n",
       " ('citizens', 600),\n",
       " ('future', 600),\n",
       " ('applications', 596),\n",
       " ('develop', 595),\n",
       " ('innovation', 594),\n",
       " ('district', 592),\n",
       " ('opportunities', 589),\n",
       " ('county', 587),\n",
       " ('charging', 581)]"
      ]
     },
     "execution_count": 29,
     "metadata": {},
     "output_type": "execute_result"
    }
   ],
   "source": [
    "WORDS = tokens(str(Smart_City_Df['clean'].values.astype(str)))\n",
    "WORD_COUNTS = collections.Counter(WORDS)\n",
    "# top 10 words in corpus\n",
    "WORD_COUNTS.most_common(100)"
   ]
  },
  {
   "cell_type": "code",
   "execution_count": 23,
   "id": "a157238c",
   "metadata": {
    "collapsed": true
   },
   "outputs": [
    {
     "name": "stdout",
     "output_type": "stream",
     "text": [
      "Requirement already satisfied: pip in c:\\users\\rohan\\appdata\\local\\programs\\python\\python39\\lib\\site-packages (23.1.2)\n",
      "Requirement already satisfied: setuptools in c:\\users\\rohan\\appdata\\local\\programs\\python\\python39\\lib\\site-packages (56.0.0)\n",
      "Collecting setuptools\n",
      "  Downloading setuptools-67.7.2-py3-none-any.whl (1.1 MB)\n",
      "     ---------------------------------------- 1.1/1.1 MB 2.8 MB/s eta 0:00:00\n",
      "Requirement already satisfied: wheel in c:\\users\\rohan\\appdata\\local\\programs\\python\\python39\\lib\\site-packages (0.37.1)\n",
      "Collecting wheel\n",
      "  Downloading wheel-0.40.0-py3-none-any.whl (64 kB)\n",
      "     ---------------------------------------- 64.5/64.5 kB 3.6 MB/s eta 0:00:00\n",
      "Installing collected packages: wheel, setuptools\n",
      "  Attempting uninstall: wheel\n",
      "    Found existing installation: wheel 0.37.1\n",
      "    Uninstalling wheel-0.37.1:\n",
      "      Successfully uninstalled wheel-0.37.1\n",
      "  Attempting uninstall: setuptools\n",
      "    Found existing installation: setuptools 56.0.0\n",
      "    Uninstalling setuptools-56.0.0:\n",
      "      Successfully uninstalled setuptools-56.0.0\n",
      "Successfully installed setuptools-67.7.2 wheel-0.40.0\n"
     ]
    }
   ],
   "source": [
    "!pip install -U pip setuptools wheel"
   ]
  },
  {
   "cell_type": "code",
   "execution_count": 24,
   "id": "7c52b6ea",
   "metadata": {
    "collapsed": true
   },
   "outputs": [
    {
     "name": "stdout",
     "output_type": "stream",
     "text": [
      "Requirement already satisfied: spacy in c:\\users\\rohan\\appdata\\local\\programs\\python\\python39\\lib\\site-packages (3.5.2)\n",
      "Requirement already satisfied: spacy-legacy<3.1.0,>=3.0.11 in c:\\users\\rohan\\appdata\\local\\programs\\python\\python39\\lib\\site-packages (from spacy) (3.0.12)\n",
      "Requirement already satisfied: spacy-loggers<2.0.0,>=1.0.0 in c:\\users\\rohan\\appdata\\local\\programs\\python\\python39\\lib\\site-packages (from spacy) (1.0.4)\n",
      "Requirement already satisfied: murmurhash<1.1.0,>=0.28.0 in c:\\users\\rohan\\appdata\\local\\programs\\python\\python39\\lib\\site-packages (from spacy) (1.0.9)\n",
      "Requirement already satisfied: cymem<2.1.0,>=2.0.2 in c:\\users\\rohan\\appdata\\local\\programs\\python\\python39\\lib\\site-packages (from spacy) (2.0.7)\n",
      "Requirement already satisfied: preshed<3.1.0,>=3.0.2 in c:\\users\\rohan\\appdata\\local\\programs\\python\\python39\\lib\\site-packages (from spacy) (3.0.8)\n",
      "Requirement already satisfied: thinc<8.2.0,>=8.1.8 in c:\\users\\rohan\\appdata\\local\\programs\\python\\python39\\lib\\site-packages (from spacy) (8.1.9)\n",
      "Requirement already satisfied: wasabi<1.2.0,>=0.9.1 in c:\\users\\rohan\\appdata\\local\\programs\\python\\python39\\lib\\site-packages (from spacy) (1.1.1)\n",
      "Requirement already satisfied: srsly<3.0.0,>=2.4.3 in c:\\users\\rohan\\appdata\\local\\programs\\python\\python39\\lib\\site-packages (from spacy) (2.4.6)\n",
      "Requirement already satisfied: catalogue<2.1.0,>=2.0.6 in c:\\users\\rohan\\appdata\\local\\programs\\python\\python39\\lib\\site-packages (from spacy) (2.0.8)\n",
      "Requirement already satisfied: typer<0.8.0,>=0.3.0 in c:\\users\\rohan\\appdata\\local\\programs\\python\\python39\\lib\\site-packages (from spacy) (0.7.0)\n",
      "Requirement already satisfied: pathy>=0.10.0 in c:\\users\\rohan\\appdata\\local\\programs\\python\\python39\\lib\\site-packages (from spacy) (0.10.1)\n",
      "Requirement already satisfied: smart-open<7.0.0,>=5.2.1 in c:\\users\\rohan\\appdata\\local\\programs\\python\\python39\\lib\\site-packages (from spacy) (6.3.0)\n",
      "Requirement already satisfied: tqdm<5.0.0,>=4.38.0 in c:\\users\\rohan\\appdata\\local\\programs\\python\\python39\\lib\\site-packages (from spacy) (4.62.3)\n",
      "Requirement already satisfied: numpy>=1.15.0 in c:\\users\\rohan\\appdata\\local\\programs\\python\\python39\\lib\\site-packages (from spacy) (1.22.1)\n",
      "Requirement already satisfied: requests<3.0.0,>=2.13.0 in c:\\users\\rohan\\appdata\\local\\programs\\python\\python39\\lib\\site-packages (from spacy) (2.27.1)\n",
      "Requirement already satisfied: pydantic!=1.8,!=1.8.1,<1.11.0,>=1.7.4 in c:\\users\\rohan\\appdata\\local\\programs\\python\\python39\\lib\\site-packages (from spacy) (1.10.7)\n",
      "Requirement already satisfied: jinja2 in c:\\users\\rohan\\appdata\\local\\programs\\python\\python39\\lib\\site-packages (from spacy) (3.0.3)\n",
      "Requirement already satisfied: setuptools in c:\\users\\rohan\\appdata\\local\\programs\\python\\python39\\lib\\site-packages (from spacy) (67.7.2)\n",
      "Requirement already satisfied: packaging>=20.0 in c:\\users\\rohan\\appdata\\local\\programs\\python\\python39\\lib\\site-packages (from spacy) (21.3)\n",
      "Requirement already satisfied: langcodes<4.0.0,>=3.2.0 in c:\\users\\rohan\\appdata\\local\\programs\\python\\python39\\lib\\site-packages (from spacy) (3.3.0)\n",
      "Requirement already satisfied: pyparsing!=3.0.5,>=2.0.2 in c:\\users\\rohan\\appdata\\local\\programs\\python\\python39\\lib\\site-packages (from packaging>=20.0->spacy) (3.0.7)\n",
      "Requirement already satisfied: typing-extensions>=4.2.0 in c:\\users\\rohan\\appdata\\local\\programs\\python\\python39\\lib\\site-packages (from pydantic!=1.8,!=1.8.1,<1.11.0,>=1.7.4->spacy) (4.5.0)\n",
      "Requirement already satisfied: urllib3<1.27,>=1.21.1 in c:\\users\\rohan\\appdata\\local\\programs\\python\\python39\\lib\\site-packages (from requests<3.0.0,>=2.13.0->spacy) (1.26.8)\n",
      "Requirement already satisfied: certifi>=2017.4.17 in c:\\users\\rohan\\appdata\\local\\programs\\python\\python39\\lib\\site-packages (from requests<3.0.0,>=2.13.0->spacy) (2021.10.8)\n",
      "Requirement already satisfied: charset-normalizer~=2.0.0 in c:\\users\\rohan\\appdata\\local\\programs\\python\\python39\\lib\\site-packages (from requests<3.0.0,>=2.13.0->spacy) (2.0.10)\n",
      "Requirement already satisfied: idna<4,>=2.5 in c:\\users\\rohan\\appdata\\local\\programs\\python\\python39\\lib\\site-packages (from requests<3.0.0,>=2.13.0->spacy) (3.3)\n",
      "Requirement already satisfied: blis<0.8.0,>=0.7.8 in c:\\users\\rohan\\appdata\\local\\programs\\python\\python39\\lib\\site-packages (from thinc<8.2.0,>=8.1.8->spacy) (0.7.9)\n",
      "Requirement already satisfied: confection<1.0.0,>=0.0.1 in c:\\users\\rohan\\appdata\\local\\programs\\python\\python39\\lib\\site-packages (from thinc<8.2.0,>=8.1.8->spacy) (0.0.4)\n",
      "Requirement already satisfied: colorama in c:\\users\\rohan\\appdata\\local\\programs\\python\\python39\\lib\\site-packages (from tqdm<5.0.0,>=4.38.0->spacy) (0.4.6)\n",
      "Requirement already satisfied: click<9.0.0,>=7.1.1 in c:\\users\\rohan\\appdata\\local\\programs\\python\\python39\\lib\\site-packages (from typer<0.8.0,>=0.3.0->spacy) (8.0.3)\n",
      "Requirement already satisfied: MarkupSafe>=2.0 in c:\\users\\rohan\\appdata\\local\\programs\\python\\python39\\lib\\site-packages (from jinja2->spacy) (2.1.2)\n"
     ]
    }
   ],
   "source": [
    "!pip install -U spacy"
   ]
  },
  {
   "cell_type": "code",
   "execution_count": 25,
   "id": "26301423",
   "metadata": {
    "collapsed": true
   },
   "outputs": [
    {
     "name": "stdout",
     "output_type": "stream",
     "text": [
      "Collecting en-core-web-sm==3.5.0\n",
      "  Downloading https://github.com/explosion/spacy-models/releases/download/en_core_web_sm-3.5.0/en_core_web_sm-3.5.0-py3-none-any.whl (12.8 MB)\n",
      "     ---------------------------------------- 12.8/12.8 MB 1.1 MB/s eta 0:00:00\n",
      "Requirement already satisfied: spacy<3.6.0,>=3.5.0 in c:\\users\\rohan\\appdata\\local\\programs\\python\\python39\\lib\\site-packages (from en-core-web-sm==3.5.0) (3.5.2)\n",
      "Requirement already satisfied: spacy-legacy<3.1.0,>=3.0.11 in c:\\users\\rohan\\appdata\\local\\programs\\python\\python39\\lib\\site-packages (from spacy<3.6.0,>=3.5.0->en-core-web-sm==3.5.0) (3.0.12)\n",
      "Requirement already satisfied: spacy-loggers<2.0.0,>=1.0.0 in c:\\users\\rohan\\appdata\\local\\programs\\python\\python39\\lib\\site-packages (from spacy<3.6.0,>=3.5.0->en-core-web-sm==3.5.0) (1.0.4)\n",
      "Requirement already satisfied: murmurhash<1.1.0,>=0.28.0 in c:\\users\\rohan\\appdata\\local\\programs\\python\\python39\\lib\\site-packages (from spacy<3.6.0,>=3.5.0->en-core-web-sm==3.5.0) (1.0.9)\n",
      "Requirement already satisfied: cymem<2.1.0,>=2.0.2 in c:\\users\\rohan\\appdata\\local\\programs\\python\\python39\\lib\\site-packages (from spacy<3.6.0,>=3.5.0->en-core-web-sm==3.5.0) (2.0.7)\n",
      "Requirement already satisfied: preshed<3.1.0,>=3.0.2 in c:\\users\\rohan\\appdata\\local\\programs\\python\\python39\\lib\\site-packages (from spacy<3.6.0,>=3.5.0->en-core-web-sm==3.5.0) (3.0.8)\n",
      "Requirement already satisfied: thinc<8.2.0,>=8.1.8 in c:\\users\\rohan\\appdata\\local\\programs\\python\\python39\\lib\\site-packages (from spacy<3.6.0,>=3.5.0->en-core-web-sm==3.5.0) (8.1.9)\n",
      "Requirement already satisfied: wasabi<1.2.0,>=0.9.1 in c:\\users\\rohan\\appdata\\local\\programs\\python\\python39\\lib\\site-packages (from spacy<3.6.0,>=3.5.0->en-core-web-sm==3.5.0) (1.1.1)\n",
      "Requirement already satisfied: srsly<3.0.0,>=2.4.3 in c:\\users\\rohan\\appdata\\local\\programs\\python\\python39\\lib\\site-packages (from spacy<3.6.0,>=3.5.0->en-core-web-sm==3.5.0) (2.4.6)\n",
      "Requirement already satisfied: catalogue<2.1.0,>=2.0.6 in c:\\users\\rohan\\appdata\\local\\programs\\python\\python39\\lib\\site-packages (from spacy<3.6.0,>=3.5.0->en-core-web-sm==3.5.0) (2.0.8)\n",
      "Requirement already satisfied: typer<0.8.0,>=0.3.0 in c:\\users\\rohan\\appdata\\local\\programs\\python\\python39\\lib\\site-packages (from spacy<3.6.0,>=3.5.0->en-core-web-sm==3.5.0) (0.7.0)\n",
      "Requirement already satisfied: pathy>=0.10.0 in c:\\users\\rohan\\appdata\\local\\programs\\python\\python39\\lib\\site-packages (from spacy<3.6.0,>=3.5.0->en-core-web-sm==3.5.0) (0.10.1)\n",
      "Requirement already satisfied: smart-open<7.0.0,>=5.2.1 in c:\\users\\rohan\\appdata\\local\\programs\\python\\python39\\lib\\site-packages (from spacy<3.6.0,>=3.5.0->en-core-web-sm==3.5.0) (6.3.0)\n",
      "Requirement already satisfied: tqdm<5.0.0,>=4.38.0 in c:\\users\\rohan\\appdata\\local\\programs\\python\\python39\\lib\\site-packages (from spacy<3.6.0,>=3.5.0->en-core-web-sm==3.5.0) (4.62.3)\n",
      "Requirement already satisfied: numpy>=1.15.0 in c:\\users\\rohan\\appdata\\local\\programs\\python\\python39\\lib\\site-packages (from spacy<3.6.0,>=3.5.0->en-core-web-sm==3.5.0) (1.22.1)\n",
      "Requirement already satisfied: requests<3.0.0,>=2.13.0 in c:\\users\\rohan\\appdata\\local\\programs\\python\\python39\\lib\\site-packages (from spacy<3.6.0,>=3.5.0->en-core-web-sm==3.5.0) (2.27.1)\n",
      "Requirement already satisfied: pydantic!=1.8,!=1.8.1,<1.11.0,>=1.7.4 in c:\\users\\rohan\\appdata\\local\\programs\\python\\python39\\lib\\site-packages (from spacy<3.6.0,>=3.5.0->en-core-web-sm==3.5.0) (1.10.7)\n",
      "Requirement already satisfied: jinja2 in c:\\users\\rohan\\appdata\\local\\programs\\python\\python39\\lib\\site-packages (from spacy<3.6.0,>=3.5.0->en-core-web-sm==3.5.0) (3.0.3)\n",
      "Requirement already satisfied: setuptools in c:\\users\\rohan\\appdata\\local\\programs\\python\\python39\\lib\\site-packages (from spacy<3.6.0,>=3.5.0->en-core-web-sm==3.5.0) (67.7.2)\n",
      "Requirement already satisfied: packaging>=20.0 in c:\\users\\rohan\\appdata\\local\\programs\\python\\python39\\lib\\site-packages (from spacy<3.6.0,>=3.5.0->en-core-web-sm==3.5.0) (21.3)\n",
      "Requirement already satisfied: langcodes<4.0.0,>=3.2.0 in c:\\users\\rohan\\appdata\\local\\programs\\python\\python39\\lib\\site-packages (from spacy<3.6.0,>=3.5.0->en-core-web-sm==3.5.0) (3.3.0)\n",
      "Requirement already satisfied: pyparsing!=3.0.5,>=2.0.2 in c:\\users\\rohan\\appdata\\local\\programs\\python\\python39\\lib\\site-packages (from packaging>=20.0->spacy<3.6.0,>=3.5.0->en-core-web-sm==3.5.0) (3.0.7)\n",
      "Requirement already satisfied: typing-extensions>=4.2.0 in c:\\users\\rohan\\appdata\\local\\programs\\python\\python39\\lib\\site-packages (from pydantic!=1.8,!=1.8.1,<1.11.0,>=1.7.4->spacy<3.6.0,>=3.5.0->en-core-web-sm==3.5.0) (4.5.0)\n",
      "Requirement already satisfied: urllib3<1.27,>=1.21.1 in c:\\users\\rohan\\appdata\\local\\programs\\python\\python39\\lib\\site-packages (from requests<3.0.0,>=2.13.0->spacy<3.6.0,>=3.5.0->en-core-web-sm==3.5.0) (1.26.8)"
     ]
    },
    {
     "name": "stderr",
     "output_type": "stream",
     "text": [
      "2023-05-08 11:42:26.702686: W tensorflow/stream_executor/platform/default/dso_loader.cc:64] Could not load dynamic library 'cudart64_110.dll'; dlerror: cudart64_110.dll not found\n",
      "2023-05-08 11:42:26.703134: I tensorflow/stream_executor/cuda/cudart_stub.cc:29] Ignore above cudart dlerror if you do not have a GPU set up on your machine.\n",
      "2023-05-08 11:42:38.803307: W tensorflow/stream_executor/platform/default/dso_loader.cc:64] Could not load dynamic library 'cudart64_110.dll'; dlerror: cudart64_110.dll not found\n",
      "2023-05-08 11:42:38.804143: W tensorflow/stream_executor/platform/default/dso_loader.cc:64] Could not load dynamic library 'cublas64_11.dll'; dlerror: cublas64_11.dll not found\n",
      "2023-05-08 11:42:38.804995: W tensorflow/stream_executor/platform/default/dso_loader.cc:64] Could not load dynamic library 'cublasLt64_11.dll'; dlerror: cublasLt64_11.dll not found\n",
      "2023-05-08 11:42:38.805770: W tensorflow/stream_executor/platform/default/dso_loader.cc:64] Could not load dynamic library 'cufft64_10.dll'; dlerror: cufft64_10.dll not found\n",
      "2023-05-08 11:42:38.806540: W tensorflow/stream_executor/platform/default/dso_loader.cc:64] Could not load dynamic library 'curand64_10.dll'; dlerror: curand64_10.dll not found\n",
      "2023-05-08 11:42:38.807313: W tensorflow/stream_executor/platform/default/dso_loader.cc:64] Could not load dynamic library 'cusolver64_11.dll'; dlerror: cusolver64_11.dll not found\n",
      "2023-05-08 11:42:38.808081: W tensorflow/stream_executor/platform/default/dso_loader.cc:64] Could not load dynamic library 'cusparse64_11.dll'; dlerror: cusparse64_11.dll not found\n",
      "2023-05-08 11:42:38.808853: W tensorflow/stream_executor/platform/default/dso_loader.cc:64] Could not load dynamic library 'cudnn64_8.dll'; dlerror: cudnn64_8.dll not found\n",
      "2023-05-08 11:42:38.808890: W tensorflow/core/common_runtime/gpu/gpu_device.cc:1850] Cannot dlopen some GPU libraries. Please make sure the missing libraries mentioned above are installed properly if you would like to use GPU. Follow the guide at https://www.tensorflow.org/install/gpu for how to download and setup the required libraries for your platform.\n",
      "Skipping registering GPU devices...\n"
     ]
    },
    {
     "name": "stdout",
     "output_type": "stream",
     "text": [
      "\n",
      "Requirement already satisfied: certifi>=2017.4.17 in c:\\users\\rohan\\appdata\\local\\programs\\python\\python39\\lib\\site-packages (from requests<3.0.0,>=2.13.0->spacy<3.6.0,>=3.5.0->en-core-web-sm==3.5.0) (2021.10.8)\n",
      "Requirement already satisfied: charset-normalizer~=2.0.0 in c:\\users\\rohan\\appdata\\local\\programs\\python\\python39\\lib\\site-packages (from requests<3.0.0,>=2.13.0->spacy<3.6.0,>=3.5.0->en-core-web-sm==3.5.0) (2.0.10)\n",
      "Requirement already satisfied: idna<4,>=2.5 in c:\\users\\rohan\\appdata\\local\\programs\\python\\python39\\lib\\site-packages (from requests<3.0.0,>=2.13.0->spacy<3.6.0,>=3.5.0->en-core-web-sm==3.5.0) (3.3)\n",
      "Requirement already satisfied: blis<0.8.0,>=0.7.8 in c:\\users\\rohan\\appdata\\local\\programs\\python\\python39\\lib\\site-packages (from thinc<8.2.0,>=8.1.8->spacy<3.6.0,>=3.5.0->en-core-web-sm==3.5.0) (0.7.9)\n",
      "Requirement already satisfied: confection<1.0.0,>=0.0.1 in c:\\users\\rohan\\appdata\\local\\programs\\python\\python39\\lib\\site-packages (from thinc<8.2.0,>=8.1.8->spacy<3.6.0,>=3.5.0->en-core-web-sm==3.5.0) (0.0.4)\n",
      "Requirement already satisfied: colorama in c:\\users\\rohan\\appdata\\local\\programs\\python\\python39\\lib\\site-packages (from tqdm<5.0.0,>=4.38.0->spacy<3.6.0,>=3.5.0->en-core-web-sm==3.5.0) (0.4.6)\n",
      "Requirement already satisfied: click<9.0.0,>=7.1.1 in c:\\users\\rohan\\appdata\\local\\programs\\python\\python39\\lib\\site-packages (from typer<0.8.0,>=0.3.0->spacy<3.6.0,>=3.5.0->en-core-web-sm==3.5.0) (8.0.3)\n",
      "Requirement already satisfied: MarkupSafe>=2.0 in c:\\users\\rohan\\appdata\\local\\programs\\python\\python39\\lib\\site-packages (from jinja2->spacy<3.6.0,>=3.5.0->en-core-web-sm==3.5.0) (2.1.2)\n",
      "Installing collected packages: en-core-web-sm\n",
      "Successfully installed en-core-web-sm-3.5.0\n",
      "\u001b[38;5;3m[!] As of spaCy v3.0, shortcuts like 'en' are deprecated. Please use\n",
      "the full pipeline package name 'en_core_web_sm' instead.\u001b[0m\n",
      "\u001b[38;5;2m[+] Download and installation successful\u001b[0m\n",
      "You can now load the package via spacy.load('en_core_web_sm')\n"
     ]
    }
   ],
   "source": [
    "!python -m spacy download en"
   ]
  },
  {
   "cell_type": "code",
   "execution_count": 26,
   "id": "2bc040f7",
   "metadata": {
    "collapsed": true
   },
   "outputs": [
    {
     "name": "stdout",
     "output_type": "stream",
     "text": [
      "Collecting https://github.com/explosion/spacy-models/releases/download/en_core_web_sm-2.3.1/en_core_web_sm-2.3.1.tar.gz\n",
      "  Downloading https://github.com/explosion/spacy-models/releases/download/en_core_web_sm-2.3.1/en_core_web_sm-2.3.1.tar.gz (12.0 MB)\n",
      "     ---------------------------------------- 12.0/12.0 MB 2.1 MB/s eta 0:00:00\n",
      "  Preparing metadata (setup.py): started\n",
      "  Preparing metadata (setup.py): finished with status 'done'\n",
      "Building wheels for collected packages: en-core-web-sm\n",
      "  Building wheel for en-core-web-sm (setup.py): started\n",
      "  Building wheel for en-core-web-sm (setup.py): finished with status 'done'\n",
      "  Created wheel for en-core-web-sm: filename=en_core_web_sm-2.3.1-py3-none-any.whl size=12047094 sha256=1bd7f93312ba50a16c4273e3a84be8c87992fcf638e0c7e251d1cb6f66d5f2ad\n",
      "  Stored in directory: c:\\users\\rohan\\appdata\\local\\pip\\cache\\wheels\\19\\d6\\1c\\5484b95647df5d7afaf74abde458c66c1cd427e69e801fe826\n",
      "Successfully built en-core-web-sm\n",
      "Installing collected packages: en-core-web-sm\n",
      "  Attempting uninstall: en-core-web-sm\n",
      "    Found existing installation: en-core-web-sm 3.5.0\n",
      "    Uninstalling en-core-web-sm-3.5.0:\n",
      "      Successfully uninstalled en-core-web-sm-3.5.0\n",
      "Successfully installed en-core-web-sm-2.3.1\n"
     ]
    }
   ],
   "source": [
    "!pip install https://github.com/explosion/spacy-models/releases/download/en_core_web_sm-2.3.1/en_core_web_sm-2.3.1.tar.gz --no-deps"
   ]
  },
  {
   "cell_type": "markdown",
   "id": "1473a3e3",
   "metadata": {},
   "source": [
    "#### Add the cleaned text to the structure you created.\n"
   ]
  },
  {
   "cell_type": "markdown",
   "id": "82cc947b",
   "metadata": {},
   "source": [
    "### Clean Up: Discussion\n",
    "Answer the questions below."
   ]
  },
  {
   "cell_type": "markdown",
   "id": "2f1ba98d",
   "metadata": {},
   "source": [
    "#### Which Smart City applicants did you remove? What issues did you see with the documents?"
   ]
  },
  {
   "cell_type": "markdown",
   "id": "ffebf5a5",
   "metadata": {},
   "source": [
    "The following countries were removed from the table.\n",
    "1) CA Moreno Valley\n",
    "2) FL Tallahassee\n",
    "3) NV Reno\n",
    "4) OH Toledo\n",
    "5) TX Lubbock\n",
    "\n",
    "The text of these pdfs were not getting extracted properly therefore the entries of the table were empty. So, to avoid any type of error during the cluster analysis the countries were removed."
   ]
  },
  {
   "cell_type": "markdown",
   "id": "1620ed74",
   "metadata": {},
   "source": [
    "#### Explain what additional text processing methods you used and why."
   ]
  },
  {
   "cell_type": "markdown",
   "id": "ae42fc81",
   "metadata": {},
   "source": [
    "Cleaned the text by using the pre_process() funciton mentioned above.\n",
    "\n",
    "Used the 'neattext function' library to remove stop words, punctuation marks, accents, numbers, emails, links etc. Additionally, performed cleaning using 're' library."
   ]
  },
  {
   "cell_type": "markdown",
   "id": "15817355",
   "metadata": {},
   "source": [
    "#### Did you identify any potientally problematic words?"
   ]
  },
  {
   "cell_type": "markdown",
   "id": "a1507fbe",
   "metadata": {},
   "source": [
    "## Experimenting with Clustering Models\n",
    "\n",
    "Now, you'll start to explore models to find the optimal clustering model. In this section, you'll explore [K-means](https://scikit-learn.org/stable/modules/generated/sklearn.cluster.KMeans.html), [Hierarchical](https://scikit-learn.org/stable/modules/generated/sklearn.cluster.AgglomerativeClustering.html), and [DBSCAN](https://scikit-learn.org/stable/modules/generated/sklearn.cluster.DBSCAN.html#sklearn.cluster.DBSCAN) clustering algorithms.\n",
    "Create these algorithms with k_clusters for K-means and Hierarchical.\n",
    "For each cell in the table provide the [Silhouette score](https://scikit-learn.org/stable/modules/generated/sklearn.metrics.silhouette_score.html#sklearn.metrics.silhouette_score), [Calinski and Harabasz score](https://scikit-learn.org/stable/modules/generated/sklearn.metrics.calinski_harabasz_score.html#sklearn.metrics.calinski_harabasz_score), and [Davies-Bouldin score](https://scikit-learn.org/stable/modules/generated/sklearn.metrics.davies_bouldin_score.html#sklearn.metrics.davies_bouldin_score).\n",
    "\n",
    "In each cell, create an array to store the values.\n",
    "For example, \n",
    "\n",
    "|Algorithm| k = 9 | k = 18| k = 36 | Optimal k| \n",
    "|--|--|--|--|--|\n",
    "|K-means| [S,CH,DB]| [S,CH,DB] | [S,CH,DB] | [S,CH,DB] |\n",
    "|Hierarchical |[S,CH,DB]| [S,CH,DB]| [S,CH,DB] | [S,CH,DB]|\n",
    "|DBSCAN | X | X | X | [S,CH,DB] |\n",
    "\n",
    "\n",
    "\n",
    "### Optimality \n",
    "You will need to find the optimal k for K-means and Hierarchical algorithms.\n",
    "Find the optimality for k in the range 2 to 50.\n",
    "Provide the code used to generate the optimal k and provide justification for your approach.\n"
   ]
  },
  {
   "cell_type": "markdown",
   "id": "8da2b033",
   "metadata": {},
   "source": [
    "|Algorithm| k = 9 | k = 18| k = 36 | Optimal k| \n",
    "|--|--|--|--|--|\n",
    "|K-means|--|--|--|--|\n",
    "|Hierarchical |--|--|--|--|\n",
    "|DBSCAN | X | X | X | -- |\n",
    "\n"
   ]
  },
  {
   "cell_type": "code",
   "execution_count": 30,
   "id": "cb5b8e35",
   "metadata": {},
   "outputs": [],
   "source": [
    "Smart_City_Df2 = Smart_City_Df.copy()"
   ]
  },
  {
   "cell_type": "code",
   "execution_count": 31,
   "id": "94bd7534",
   "metadata": {},
   "outputs": [],
   "source": [
    "from sklearn.feature_extraction.text import TfidfVectorizer\n",
    "tfidf = TfidfVectorizer()"
   ]
  },
  {
   "cell_type": "code",
   "execution_count": 32,
   "id": "c199a3d0",
   "metadata": {},
   "outputs": [],
   "source": [
    "documents = Smart_City_Df2['clean'].values\n",
    "features = tfidf.fit_transform(documents)"
   ]
  },
  {
   "cell_type": "markdown",
   "id": "27742dcf",
   "metadata": {},
   "source": [
    "# K means Clustering"
   ]
  },
  {
   "cell_type": "code",
   "execution_count": 33,
   "id": "61c07c35",
   "metadata": {},
   "outputs": [],
   "source": [
    "from sklearn.cluster import KMeans\n",
    "from sklearn.metrics import silhouette_score\n",
    "from sklearn.metrics import davies_bouldin_score\n",
    "import matplotlib.pyplot as plt\n",
    "from sklearn.metrics import calinski_harabasz_score\n",
    "k_list=[]"
   ]
  },
  {
   "cell_type": "code",
   "execution_count": 34,
   "id": "a9e9dddd",
   "metadata": {},
   "outputs": [],
   "source": [
    "k_values = range(2, 51)\n",
    "sse_values = []\n",
    "for k in k_values:\n",
    "    kmeans = KMeans(n_clusters=k,random_state=0)\n",
    "    kmeans.fit(features)\n",
    "    sse_values.append(kmeans.inertia_)"
   ]
  },
  {
   "cell_type": "code",
   "execution_count": 35,
   "id": "eb5af232",
   "metadata": {},
   "outputs": [
    {
     "data": {
      "image/png": "[encoded data removed]",
      "text/plain": [
       "<Figure size 432x288 with 1 Axes>"
      ]
     },
     "metadata": {
      "needs_background": "light"
     },
     "output_type": "display_data"
    }
   ],
   "source": [
    "plt.plot(k_values, sse_values, 'bx-')\n",
    "plt.xlabel('Number of clusters (K)')\n",
    "plt.ylabel('SSE')\n",
    "plt.title('Elbow Method')\n",
    "plt.show()"
   ]
  },
  {
   "cell_type": "code",
   "execution_count": 36,
   "id": "58630066",
   "metadata": {},
   "outputs": [
    {
     "name": "stdout",
     "output_type": "stream",
     "text": [
      "Optimal value of K:  47\n"
     ]
    }
   ],
   "source": [
    "# Extract the optimal value of K from the elbow chart using the elbow method\n",
    "import numpy as np\n",
    "distances = []\n",
    "for i in range(len(sse_values) - 1):\n",
    "    distances.append(sse_values[i] - sse_values[i + 1])\n",
    "    optimal_k = np.argmin(distances) + 1\n",
    "\n",
    "print(\"Optimal value of K: \", optimal_k)"
   ]
  },
  {
   "cell_type": "code",
   "execution_count": 37,
   "id": "46945e3d",
   "metadata": {},
   "outputs": [],
   "source": [
    "for i in [9,18,36,optimal_k]:\n",
    "    model = KMeans(n_clusters=int(i),random_state=0)\n",
    "    model.fit(features)\n",
    "    k_list.append([round(silhouette_score(features, model.labels_),3),round(calinski_harabasz_score(features.toarray(), model.labels_),3),round(davies_bouldin_score(features.toarray(), model.labels_),3)])"
   ]
  },
  {
   "cell_type": "code",
   "execution_count": 38,
   "id": "5b6b6457",
   "metadata": {},
   "outputs": [
    {
     "data": {
      "text/plain": [
       "[[-0.002, 1.27, 1.855],\n",
       " [-0.006, 1.214, 1.479],\n",
       " [0.013, 1.231, 1.115],\n",
       " [0.017, 1.293, 0.976]]"
      ]
     },
     "execution_count": 38,
     "metadata": {},
     "output_type": "execute_result"
    }
   ],
   "source": [
    "k_list"
   ]
  },
  {
   "cell_type": "markdown",
   "id": "a5a12116",
   "metadata": {},
   "source": [
    "# Hierarchal  Cluster"
   ]
  },
  {
   "cell_type": "code",
   "execution_count": 39,
   "id": "7df5b97e",
   "metadata": {},
   "outputs": [],
   "source": [
    "from scipy.cluster.hierarchy import dendrogram, linkage\n",
    "from sklearn.datasets import make_blobs\n",
    "import matplotlib.pyplot as plt\n",
    "import numpy as np"
   ]
  },
  {
   "cell_type": "code",
   "execution_count": 40,
   "id": "a3fe2306",
   "metadata": {},
   "outputs": [],
   "source": [
    "Z = linkage(features.toarray(), method='ward')"
   ]
  },
  {
   "cell_type": "code",
   "execution_count": 41,
   "id": "e6d20920",
   "metadata": {},
   "outputs": [
    {
     "data": {
      "image/png": "[encoded data removed]",
      "text/plain": [
       "<Figure size 720x360 with 1 Axes>"
      ]
     },
     "metadata": {
      "needs_background": "light"
     },
     "output_type": "display_data"
    },
    {
     "data": {
      "image/png": "[encoded data removed]",
      "text/plain": [
       "<Figure size 432x288 with 1 Axes>"
      ]
     },
     "metadata": {
      "needs_background": "light"
     },
     "output_type": "display_data"
    },
    {
     "name": "stdout",
     "output_type": "stream",
     "text": [
      "The optimal number of clusters is: 27\n"
     ]
    }
   ],
   "source": [
    "# Plot the dendrogram\n",
    "plt.figure(figsize=(10, 5))\n",
    "dendrogram(Z)\n",
    "plt.title('Dendrogram')\n",
    "plt.xlabel('Sample index')\n",
    "plt.ylabel('Distance')\n",
    "plt.show()\n",
    "\n",
    "# Find the optimal number of clusters\n",
    "dist = Z[:, 2]\n",
    "diff = np.diff(dist)\n",
    "diff_r = diff[1:] / diff[:-1]\n",
    "k_opt = np.argmin(diff_r) + 2\n",
    "\n",
    "# Plot the elbow curve\n",
    "plt.plot(range(2, len(dist)), diff_r, 'o-')\n",
    "plt.xlabel('Number of clusters')\n",
    "plt.ylabel('Ratio of differences')\n",
    "plt.title('Elbow curve')\n",
    "plt.show()\n",
    "\n",
    "print(\"The optimal number of clusters is:\", k_opt)"
   ]
  },
  {
   "cell_type": "code",
   "execution_count": 42,
   "id": "5af90ffc",
   "metadata": {},
   "outputs": [],
   "source": [
    "from sklearn.cluster import AgglomerativeClustering\n",
    "h_list=[]\n",
    "for i in [9,18,36,k_opt]:\n",
    "    clustering = AgglomerativeClustering(n_clusters=int(i))\n",
    "    clustering.fit(features.toarray())\n",
    "    h_list.append([round(silhouette_score(features, clustering.labels_),3),round(calinski_harabasz_score(features.toarray(), clustering.labels_),3),round(davies_bouldin_score(features.toarray(),clustering.labels_),3)])"
   ]
  },
  {
   "cell_type": "code",
   "execution_count": 43,
   "id": "4c801f0b",
   "metadata": {},
   "outputs": [
    {
     "data": {
      "text/plain": [
       "[[0.012, 1.374, 2.744],\n",
       " [0.009, 1.289, 1.948],\n",
       " [0.011, 1.275, 1.297],\n",
       " [0.014, 1.268, 1.524]]"
      ]
     },
     "execution_count": 43,
     "metadata": {},
     "output_type": "execute_result"
    }
   ],
   "source": [
    "h_list"
   ]
  },
  {
   "cell_type": "markdown",
   "id": "473373bf",
   "metadata": {},
   "source": [
    "## DBSCAN"
   ]
  },
  {
   "cell_type": "code",
   "execution_count": 44,
   "id": "818b5edd",
   "metadata": {},
   "outputs": [],
   "source": [
    "from sklearn.cluster import DBSCAN\n",
    "from sklearn.metrics import silhouette_score\n",
    "from sklearn.model_selection import GridSearchCV\n",
    "from sklearn.metrics import silhouette_score, make_scorer\n",
    "scorer = make_scorer(silhouette_score)"
   ]
  },
  {
   "cell_type": "code",
   "execution_count": 45,
   "id": "15727b1a",
   "metadata": {},
   "outputs": [
    {
     "name": "stdout",
     "output_type": "stream",
     "text": [
      "Best Silhouette Score: 0.09\n",
      "Best eps: 1.30\n",
      "Best min_samples: 2\n"
     ]
    }
   ],
   "source": [
    "# Define the range of parameter values to try\n",
    "eps_values = np.linspace(0.1, 2.0, 20)\n",
    "min_samples_values = range(2, 5)\n",
    "\n",
    "# Initialize variables to store the best parameter values and the best silhouette score\n",
    "best_eps = None\n",
    "best_min_samples = None\n",
    "best_silhouette_score = -1\n",
    "\n",
    "# Loop over all combinations of parameter values\n",
    "for eps in eps_values:\n",
    "    for min_samples in min_samples_values:\n",
    "        \n",
    "        # Fit DBSCAN clustering to the data with the current parameter values\n",
    "        dbscan = DBSCAN(eps=eps, min_samples=min_samples)\n",
    "        dbscan.fit(features)\n",
    "        \n",
    "        # Compute the silhouette score for the clustering result\n",
    "        labels = dbscan.labels_\n",
    "        if len(np.unique(labels)) > 1:  # Skip if there's only one cluster\n",
    "            score = silhouette_score(features, labels)\n",
    "            \n",
    "            # Check if this is the best silhouette score so far\n",
    "            if score > best_silhouette_score:\n",
    "                best_silhouette_score = score\n",
    "                best_eps = eps\n",
    "                best_min_samples = min_samples\n",
    "\n",
    "# Print the best parameter values and the best silhouette score\n",
    "print(\"Best Silhouette Score: {:.2f}\".format(best_silhouette_score))\n",
    "print(\"Best eps: {:.2f}\".format(best_eps))\n",
    "print(\"Best min_samples: {}\".format(best_min_samples))"
   ]
  },
  {
   "cell_type": "code",
   "execution_count": 46,
   "id": "3e755a6e",
   "metadata": {},
   "outputs": [
    {
     "data": {
      "text/plain": [
       "array([ 0,  1,  2,  3,  4,  5,  6,  7,  8,  9, 10, 11, 12, 13,  8,  8, 14,\n",
       "       15, 16, 17, 18, 19, 19, 20,  8, 21, 22,  8, 23,  8, 24, 25, 26, 27,\n",
       "       28,  8,  8, 29, 30, 31,  8,  8, 32, 33,  8, 34,  1, 35,  8, 36, 37,\n",
       "       38, 39, 40,  8, 41, 42,  8,  8, 43,  8,  8, 44, 45], dtype=int64)"
      ]
     },
     "execution_count": 46,
     "metadata": {},
     "output_type": "execute_result"
    }
   ],
   "source": [
    "# Fit DBSCAN clustering to the data with the current parameter values\n",
    "dbscan = DBSCAN(eps=1.15,min_samples=1)\n",
    "dbscan.fit(features)\n",
    "dbscan.labels_"
   ]
  },
  {
   "cell_type": "code",
   "execution_count": 47,
   "id": "0df40437",
   "metadata": {},
   "outputs": [],
   "source": [
    "dbscan_score = [round(silhouette_score(features, dbscan.labels_),3),round(calinski_harabasz_score(features.toarray(), dbscan.labels_),3),round(davies_bouldin_score(features.toarray(),dbscan.labels_),3)]"
   ]
  },
  {
   "cell_type": "code",
   "execution_count": 48,
   "id": "acf7d056",
   "metadata": {},
   "outputs": [
    {
     "data": {
      "text/plain": [
       "[0.014, 1.255, 0.903]"
      ]
     },
     "execution_count": 48,
     "metadata": {},
     "output_type": "execute_result"
    }
   ],
   "source": [
    "dbscan_score"
   ]
  },
  {
   "cell_type": "code",
   "execution_count": 49,
   "id": "a93ba202",
   "metadata": {},
   "outputs": [
    {
     "name": "stderr",
     "output_type": "stream",
     "text": [
      "C:\\Users\\Rohan\\AppData\\Local\\Temp\\ipykernel_2740\\850501287.py:2: FutureWarning: The frame.append method is deprecated and will be removed from pandas in a future version. Use pandas.concat instead.\n",
      "  scoredf = scoredf.append({\"Algorithms\":\"Kmeans\",\"k=9\":k_list[0],\"k=18\":k_list[1],\"k=36\":k_list[2],\"Optimal k\":k_list[3]},ignore_index=True)\n",
      "C:\\Users\\Rohan\\AppData\\Local\\Temp\\ipykernel_2740\\850501287.py:3: FutureWarning: The frame.append method is deprecated and will be removed from pandas in a future version. Use pandas.concat instead.\n",
      "  scoredf = scoredf.append({\"Algorithms\":\"Hirearchichal\",\"k=9\":h_list[0],\"k=18\":h_list[1],\"k=36\":h_list[2],\"Optimal k\":h_list[3]},ignore_index=True)\n",
      "C:\\Users\\Rohan\\AppData\\Local\\Temp\\ipykernel_2740\\850501287.py:4: FutureWarning: The frame.append method is deprecated and will be removed from pandas in a future version. Use pandas.concat instead.\n",
      "  scoredf = scoredf.append({\"Algorithms\":\"DBSCAN\",\"k=9\":\"X\",\"k=18\":\"X\",\"k=36\":\"X\",\"Optimal k\":dbscan_score},ignore_index=True)\n"
     ]
    }
   ],
   "source": [
    "scoredf = pd.DataFrame(columns=[\"Algorithms\",\"k=9\",\"k=18\",\"k=36\",\"Optimal k\"])\n",
    "scoredf = scoredf.append({\"Algorithms\":\"Kmeans\",\"k=9\":k_list[0],\"k=18\":k_list[1],\"k=36\":k_list[2],\"Optimal k\":k_list[3]},ignore_index=True)\n",
    "scoredf = scoredf.append({\"Algorithms\":\"Hirearchichal\",\"k=9\":h_list[0],\"k=18\":h_list[1],\"k=36\":h_list[2],\"Optimal k\":h_list[3]},ignore_index=True)\n",
    "scoredf = scoredf.append({\"Algorithms\":\"DBSCAN\",\"k=9\":\"X\",\"k=18\":\"X\",\"k=36\":\"X\",\"Optimal k\":dbscan_score},ignore_index=True)"
   ]
  },
  {
   "cell_type": "code",
   "execution_count": 50,
   "id": "932e31e9",
   "metadata": {},
   "outputs": [
    {
     "data": {
      "text/html": [
       "<div>\n",
       "<style scoped>\n",
       "    .dataframe tbody tr th:only-of-type {\n",
       "        vertical-align: middle;\n",
       "    }\n",
       "\n",
       "    .dataframe tbody tr th {\n",
       "        vertical-align: top;\n",
       "    }\n",
       "\n",
       "    .dataframe thead th {\n",
       "        text-align: right;\n",
       "    }\n",
       "</style>\n",
       "<table border=\"1\" class=\"dataframe\">\n",
       "  <thead>\n",
       "    <tr style=\"text-align: right;\">\n",
       "      <th></th>\n",
       "      <th>Algorithms</th>\n",
       "      <th>k=9</th>\n",
       "      <th>k=18</th>\n",
       "      <th>k=36</th>\n",
       "      <th>Optimal k</th>\n",
       "    </tr>\n",
       "  </thead>\n",
       "  <tbody>\n",
       "    <tr>\n",
       "      <th>0</th>\n",
       "      <td>Kmeans</td>\n",
       "      <td>[-0.002, 1.27, 1.855]</td>\n",
       "      <td>[-0.006, 1.214, 1.479]</td>\n",
       "      <td>[0.013, 1.231, 1.115]</td>\n",
       "      <td>[0.017, 1.293, 0.976]</td>\n",
       "    </tr>\n",
       "    <tr>\n",
       "      <th>1</th>\n",
       "      <td>Hirearchichal</td>\n",
       "      <td>[0.012, 1.374, 2.744]</td>\n",
       "      <td>[0.009, 1.289, 1.948]</td>\n",
       "      <td>[0.011, 1.275, 1.297]</td>\n",
       "      <td>[0.014, 1.268, 1.524]</td>\n",
       "    </tr>\n",
       "    <tr>\n",
       "      <th>2</th>\n",
       "      <td>DBSCAN</td>\n",
       "      <td>X</td>\n",
       "      <td>X</td>\n",
       "      <td>X</td>\n",
       "      <td>[0.014, 1.255, 0.903]</td>\n",
       "    </tr>\n",
       "  </tbody>\n",
       "</table>\n",
       "</div>"
      ],
      "text/plain": [
       "      Algorithms                    k=9                    k=18  \\\n",
       "0         Kmeans  [-0.002, 1.27, 1.855]  [-0.006, 1.214, 1.479]   \n",
       "1  Hirearchichal  [0.012, 1.374, 2.744]   [0.009, 1.289, 1.948]   \n",
       "2         DBSCAN                      X                       X   \n",
       "\n",
       "                    k=36              Optimal k  \n",
       "0  [0.013, 1.231, 1.115]  [0.017, 1.293, 0.976]  \n",
       "1  [0.011, 1.275, 1.297]  [0.014, 1.268, 1.524]  \n",
       "2                      X  [0.014, 1.255, 0.903]  "
      ]
     },
     "execution_count": 50,
     "metadata": {},
     "output_type": "execute_result"
    }
   ],
   "source": [
    "scoredf\n"
   ]
  },
  {
   "cell_type": "markdown",
   "id": "6c20fd69",
   "metadata": {},
   "source": [
    "#### How did you approach finding the optimal k?"
   ]
  },
  {
   "cell_type": "markdown",
   "id": "753c54da",
   "metadata": {},
   "source": [
    "Elbow method:\n",
    "The elbow method is a commonly used heuristic to determine the optimal number of clusters. It involves plotting the sum of squared distances of each point in a cluster to its centroid (also known as the inertia) against the number of clusters k. The idea is to look for a point where the reduction in inertia begins to level off. This point is often referred to as the elbow point.\n",
    "\n",
    "Silhouette method:\n",
    "The silhouette method is another popular approach for determining the optimal number of clusters. It involves calculating a silhouette score for each data point, which measures how similar it is to its own cluster compared to other clusters. The silhouette score ranges from -1 to 1, with values closer to 1 indicating better clustering. The optimal number of clusters is the one that maximizes the average silhouette score across all data points.\n",
    "\n",
    "Gap statistic:\n",
    "The gap statistic is a statistical approach for determining the optimal number of clusters. It involves comparing the within-cluster dispersion to a reference distribution of randomly generated data. The optimal number of clusters is the one that maximizes the gap between the within-cluster dispersion and the reference distribution.\n",
    "\n",
    "Hierarchical clustering:\n",
    "Hierarchical clustering is another method that can be used to determine the optimal number of clusters. It involves creating a dendrogram that shows the hierarchical relationships between data points. The optimal number of clusters can be determined by cutting the dendrogram at a particular height, which corresponds to the desired number of clusters.\n",
    "\n",
    "These are some of the commonly used approaches for determining the optimal number of clusters in k-means clustering. However, it is important to note that the choice of the optimal number of clusters ultimately depends on the specific problem and domain knowledge"
   ]
  },
  {
   "cell_type": "markdown",
   "id": "f79ec635",
   "metadata": {},
   "source": [
    "#### What algorithm do you believe is the best? Why?"
   ]
  },
  {
   "cell_type": "markdown",
   "id": "3136b0a4",
   "metadata": {},
   "source": [
    "Kmeans which is showing best Calinski and Harabasz score, and Davies-Bouldin score & Silhouette score compare to other two methods"
   ]
  },
  {
   "cell_type": "markdown",
   "id": "2e45a2a3",
   "metadata": {},
   "source": [
    "### Add Cluster ID to output file\n",
    "In your data structure, add the cluster id for each smart city respectively. Show the to append the clusterid code below."
   ]
  },
  {
   "cell_type": "markdown",
   "id": "959e7275",
   "metadata": {},
   "source": [
    "### Save Model\n",
    "\n",
    "After finding the best model, it is desirable to have a way to persist the model for future use without having to retrain. Save the model using [model persistance](https://scikit-learn.org/stable/model_persistence.html). This model should be saved in the same directory as this notebook and should be loaded as the model for your `project3.py`.\n",
    "\n",
    "Save the model as `model.pkl`. You do not have to use pickle, but be sure to save the persistance using one of the methods listed in the link."
   ]
  },
  {
   "cell_type": "code",
   "execution_count": 52,
   "id": "668591cc",
   "metadata": {},
   "outputs": [],
   "source": [
    "kmeans = KMeans(n_clusters=k_opt)\n",
    "model = kmeans.fit(features.toarray())"
   ]
  },
  {
   "cell_type": "code",
   "execution_count": 86,
   "id": "9ad83e3b",
   "metadata": {},
   "outputs": [],
   "source": [
    "Smart_City_Df2['cluster_id'] = model.labels_"
   ]
  },
  {
   "cell_type": "code",
   "execution_count": 164,
   "id": "1c80938e",
   "metadata": {},
   "outputs": [],
   "source": [
    "import pickle\n",
    "with open('model.pkl', 'wb') as files:\n",
    "    pickle.dump(tfidf,files)\n",
    "    pickle.dump(model,files)\n",
    "    "
   ]
  },
  {
   "cell_type": "markdown",
   "id": "3fe5a0c9",
   "metadata": {},
   "source": [
    "## Derving Themes and Concepts\n",
    "\n",
    "Perform Topic Modeling on the cleaned data. Provide the top five words for `TOPIC_NUM = Best_k` as defined in the section above. Feel free to reference [Chapter 6](https://github.com/dipanjanS/text-analytics-with-python/tree/master/New-Second-Edition/Ch06%20-%20Text%20Summarization%20and%20Topic%20Models) for more information on Topic Modeling and Summarization."
   ]
  },
  {
   "cell_type": "code",
   "execution_count": 53,
   "id": "3eee6b41",
   "metadata": {},
   "outputs": [
    {
     "name": "stdout",
     "output_type": "stream",
     "text": [
      "CPU times: total: 93.8 ms\n",
      "Wall time: 18 ms\n"
     ]
    }
   ],
   "source": [
    "%%time\n",
    "import nltk\n",
    "\n",
    "stop_words = nltk.corpus.stopwords.words('english')\n",
    "wtk = nltk.tokenize.RegexpTokenizer(r'\\w+')\n",
    "wnl = nltk.stem.wordnet.WordNetLemmatizer()\n",
    "\n",
    "def normalize_corpus(paper):\n",
    "    norm_papers = []\n",
    " \n",
    "    paper = paper.lower()\n",
    "    paper_tokens = [token.strip() for token in wtk.tokenize(paper)]\n",
    "    paper_tokens = [wnl.lemmatize(token) for token in paper_tokens if not token.isnumeric()]\n",
    "    paper_tokens = [token for token in paper_tokens if len(token) > 1]\n",
    "    paper_tokens = [token for token in paper_tokens if token not in stop_words]\n",
    "    paper_tokens = list(filter(None, paper_tokens))\n",
    "    if paper_tokens:\n",
    "        norm_papers.append(paper_tokens)\n",
    "\n",
    "    return norm_papers\n",
    "    "
   ]
  },
  {
   "cell_type": "code",
   "execution_count": 54,
   "id": "c0ce7163",
   "metadata": {},
   "outputs": [],
   "source": [
    "Smart_City_Df2['token_clean'] = Smart_City_Df2['clean'].apply(normalize_corpus)"
   ]
  },
  {
   "cell_type": "code",
   "execution_count": 625,
   "id": "25841da5",
   "metadata": {
    "collapsed": true
   },
   "outputs": [
    {
     "name": "stdout",
     "output_type": "stream",
     "text": [
      "Requirement already satisfied: gensim in c:\\users\\rohan\\appdata\\local\\programs\\python\\python39\\lib\\site-packages (3.6.0)\n",
      "Requirement already satisfied: numpy>=1.11.3 in c:\\users\\rohan\\appdata\\local\\programs\\python\\python39\\lib\\site-packages (from gensim) (1.22.1)\n",
      "Requirement already satisfied: scipy>=0.18.1 in c:\\users\\rohan\\appdata\\local\\programs\\python\\python39\\lib\\site-packages (from gensim) (1.7.3)\n",
      "Requirement already satisfied: six>=1.5.0 in c:\\users\\rohan\\appdata\\local\\programs\\python\\python39\\lib\\site-packages (from gensim) (1.16.0)\n",
      "Requirement already satisfied: smart-open>=1.2.1 in c:\\users\\rohan\\appdata\\local\\programs\\python\\python39\\lib\\site-packages (from gensim) (6.3.0)\n",
      "Note: you may need to restart the kernel to use updated packages.\n"
     ]
    }
   ],
   "source": [
    "pip install gensim"
   ]
  },
  {
   "cell_type": "code",
   "execution_count": 55,
   "id": "f145f472",
   "metadata": {},
   "outputs": [],
   "source": [
    "from collections.abc import Mapping\n",
    "import gensim\n",
    "import gensim\n",
    "from gensim import corpora"
   ]
  },
  {
   "cell_type": "code",
   "execution_count": 155,
   "id": "72cb254b",
   "metadata": {},
   "outputs": [],
   "source": [
    "# Preprocess the text data\n",
    "processed_docs = Smart_City_Df2['clean text'].apply(gensim.utils.simple_preprocess)\n",
    "\n",
    "# Create a Gensim dictionary from the processed data\n",
    "dictionary = corpora.Dictionary(processed_docs)\n",
    "\n",
    "# Create a Gensim corpus from the dictionary and processed data\n",
    "corpus = [dictionary.doc2bow(doc) for doc in processed_docs]\n",
    "\n",
    "# Perform a Gensim topic model analysis on the corpus\n",
    "lda_model = gensim.models.ldamodel.LdaModel(corpus=corpus,\n",
    "                                            id2word=dictionary,\n",
    "                                            num_topics=12,\n",
    "                                            random_state=42)\n",
    "\n",
    "# Store the results back into the pandas dataframe\n",
    "Smart_City_Df2['topic'] = [max(lda_model[doc], key=lambda x: x[1])[0] for doc in corpus]"
   ]
  },
  {
   "cell_type": "code",
   "execution_count": 652,
   "id": "2348fe6d",
   "metadata": {},
   "outputs": [],
   "source": [
    "def topic_function(x):\n",
    "    processed_docs = x\n",
    "\n",
    "    # Create a Gensim dictionary from the processed data\n",
    "    dictionary = corpora.Dictionary(processed_docs)\n",
    "\n",
    "    # Create a Gensim corpus from the dictionary and processed data\n",
    "    corpus = [dictionary.doc2bow(doc) for doc in processed_docs]\n",
    "\n",
    "    # Perform a Gensim topic model analysis on the corpus\n",
    "    lda_model = gensim.models.ldamodel.LdaModel(corpus=corpus,\n",
    "                                                id2word=dictionary,\n",
    "                                                num_topics=12,\n",
    "                                                random_state=42)\n",
    "    \n",
    "    return  [max(lda_model[doc], key=lambda x: x[1])[0] for doc in corpus]\n"
   ]
  },
  {
   "cell_type": "code",
   "execution_count": 57,
   "id": "f046eb66",
   "metadata": {},
   "outputs": [],
   "source": [
    "Smart_City_Df2['topic'] = [sorted(lda_model[doc], key=lambda x: x[1], reverse=True)[:2] for doc in corpus]\n",
    "list_topics = []\n",
    "for i in Smart_City_Df2.topic2:\n",
    "    temp_topics = []\n",
    "    for j in i:\n",
    "        temp_topics.append(\"T\"+str(j[0]))\n",
    "    list_topics.append(temp_topics)\n",
    "Smart_City_Df2['T'] = list_topics"
   ]
  },
  {
   "cell_type": "code",
   "execution_count": 58,
   "id": "060d9f1e",
   "metadata": {},
   "outputs": [
    {
     "data": {
      "text/plain": [
       "1    11\n",
       "Name: topic, dtype: int64"
      ]
     },
     "execution_count": 58,
     "metadata": {},
     "output_type": "execute_result"
    }
   ],
   "source": [
    "Smart_City_Df2['topic'].head(1)"
   ]
  },
  {
   "cell_type": "code",
   "execution_count": 666,
   "id": "65027ab4",
   "metadata": {},
   "outputs": [],
   "source": [
    "Smart_City_Df2['topic2'] =  topic_function(Smart_City_Df2['clean text'].apply(gensim.utils.simple_preprocess))"
   ]
  },
  {
   "cell_type": "markdown",
   "id": "1573fe65",
   "metadata": {},
   "source": [
    "### Extract themes\n",
    "Write a theme for each topic (atleast a sentence each)."
   ]
  },
  {
   "cell_type": "code",
   "execution_count": 59,
   "id": "dd5c21e4",
   "metadata": {},
   "outputs": [],
   "source": [
    "pd.options.display.max_colwidth = 500"
   ]
  },
  {
   "cell_type": "code",
   "execution_count": 60,
   "id": "71924149",
   "metadata": {},
   "outputs": [
    {
     "data": {
      "text/plain": [
       "6    office mayor mary casilas salas february yous department transportation usdot federal highway administration fhwa office acquisition grants management new jersey avenue se mail drop e washington dc atn sarah tarpgard hcfa traffic smart city challenge smart city chula vista dear ms tarpgard pleased present smart city chula vista application submission includes citys vision traffic address citys significant traffic related challenges chula vista uniquely positioned dynamics people landuse infr...\n",
       "Name: clean, dtype: object"
      ]
     },
     "execution_count": 60,
     "metadata": {},
     "output_type": "execute_result"
    }
   ],
   "source": [
    "Smart_City_Df2.loc[Smart_City_Df2['topic']==1][1:2].clean"
   ]
  },
  {
   "cell_type": "code",
   "execution_count": 61,
   "id": "fe66ebf9",
   "metadata": {},
   "outputs": [
    {
     "data": {
      "text/plain": [
       "6    office mayor mary casilas salas february yous department transportation usdot federal highway administration fhwa office acquisition grants management new jersey avenue se mail drop e washington dc atn sarah tarpgard hcfa traffic smart city challenge smart city chula vista dear ms tarpgard pleased present smart city chula vista application submission includes citys vision traffic address citys significant traffic related challenges chula vista uniquely positioned dynamics people landuse infr...\n",
       "Name: clean, dtype: object"
      ]
     },
     "execution_count": 61,
     "metadata": {},
     "output_type": "execute_result"
    }
   ],
   "source": [
    "#Topic 1\n",
    "Smart_City_Df2.loc[Smart_City_Df2['topic']==1][1:2].clean"
   ]
  },
  {
   "cell_type": "code",
   "execution_count": 62,
   "id": "d368c1ed",
   "metadata": {},
   "outputs": [
    {
     "data": {
      "text/plain": [
       "51    city akron p g e traffic smart city challenge akron ohio challenge statement akron city innovation continually reinventing elf economy continues evolve today city people infrastru cture built people unlike yous cities akrons challenge build infrastructure ac comodate people cars overbuilt infrastructure city major challenges surrounding adequate attractive transportation downtown inner core neighborhoods market ing downtown parking options properly citys challenge smarter efficient effective...\n",
       "Name: clean, dtype: object"
      ]
     },
     "execution_count": 62,
     "metadata": {},
     "output_type": "execute_result"
    }
   ],
   "source": [
    "#Topic 2\n",
    "Smart_City_Df2.loc[Smart_City_Df2['topic']==2][1:2].clean"
   ]
  },
  {
   "cell_type": "code",
   "execution_count": 63,
   "id": "6f0762fe",
   "metadata": {},
   "outputs": [
    {
     "data": {
      "text/plain": [
       "23    traffic smart tampa vision ibeyond traffic smart tampa vision ii welcome tampa tampa rd largest city state florida metropolitan heartbeat tampa bay region million people tampa city resilience city built determination immigrants cuba italy spain south central americas scotland thousands came tampa search prosperity safety equal opportunity early architects great city brought tampa valuable sought brought vision motivation laid groundwork better tomorrow vision building today journey small por...\n",
       "Name: clean, dtype: object"
      ]
     },
     "execution_count": 63,
     "metadata": {},
     "output_type": "execute_result"
    }
   ],
   "source": [
    "#Topic 5\n",
    "Smart_City_Df2.loc[Smart_City_Df2['topic']==5][1:2].clean"
   ]
  },
  {
   "cell_type": "markdown",
   "id": "94ab7df0",
   "metadata": {},
   "source": [
    "### Add Topid ID to output file\n",
    "Add the top two topics for each smart city to the data structure."
   ]
  },
  {
   "cell_type": "code",
   "execution_count": 64,
   "id": "37848617",
   "metadata": {},
   "outputs": [],
   "source": [
    "pd.options.display.max_colwidth = 50"
   ]
  },
  {
   "cell_type": "code",
   "execution_count": 65,
   "id": "8e568652",
   "metadata": {},
   "outputs": [],
   "source": [
    "Smart_City_Df2['topics'] = [sorted(lda_model[doc], key=lambda x: x[1], reverse=True)[:2] for doc in corpus]\n",
    "list_topics = []\n",
    "for i in Smart_City_Df2.topics:\n",
    "    temp_topics = []\n",
    "    for j in i:\n",
    "        temp_topics.append(\"T\"+str(j[0]))\n",
    "    list_topics.append(temp_topics)\n",
    "Smart_City_Df2['topics'] = list_topics"
   ]
  },
  {
   "cell_type": "code",
   "execution_count": 159,
   "id": "3042b211",
   "metadata": {},
   "outputs": [
    {
     "data": {
      "text/html": [
       "<div>\n",
       "<style scoped>\n",
       "    .dataframe tbody tr th:only-of-type {\n",
       "        vertical-align: middle;\n",
       "    }\n",
       "\n",
       "    .dataframe tbody tr th {\n",
       "        vertical-align: top;\n",
       "    }\n",
       "\n",
       "    .dataframe thead th {\n",
       "        text-align: right;\n",
       "    }\n",
       "</style>\n",
       "<table border=\"1\" class=\"dataframe\">\n",
       "  <thead>\n",
       "    <tr style=\"text-align: right;\">\n",
       "      <th></th>\n",
       "      <th>city</th>\n",
       "      <th>raw text</th>\n",
       "      <th>clean text</th>\n",
       "      <th>clusterid</th>\n",
       "      <th>topicids</th>\n",
       "      <th>summary</th>\n",
       "      <th>keywords</th>\n",
       "    </tr>\n",
       "  </thead>\n",
       "  <tbody>\n",
       "    <tr>\n",
       "      <th>1</th>\n",
       "      <td>AK Anchorage</td>\n",
       "      <td>CONTENTS \\n1 VISION .............................</td>\n",
       "      <td>contents vision population characteristics sit...</td>\n",
       "      <td>12</td>\n",
       "      <td>[T11, T0]</td>\n",
       "      <td>anchorage data architecture ict smart vision o...</td>\n",
       "      <td>anchorages municipality anchorage municipal mu...</td>\n",
       "    </tr>\n",
       "    <tr>\n",
       "      <th>2</th>\n",
       "      <td>AL Birmingham</td>\n",
       "      <td>aBirmingham\\nRising\\nBirmingham Rising! Meetin...</td>\n",
       "      <td>abirmingham rising birmingham rising meeting c...</td>\n",
       "      <td>3</td>\n",
       "      <td>[T1, T0]</td>\n",
       "      <td>city birmingham transporta es smart ons data n...</td>\n",
       "      <td>city citys birmingham birminghams transporta o...</td>\n",
       "    </tr>\n",
       "    <tr>\n",
       "      <th>3</th>\n",
       "      <td>AL Montgomery</td>\n",
       "      <td>U.S. Department of Transportation - “BEYOND TR...</td>\n",
       "      <td>yous department transportation traffic smart c...</td>\n",
       "      <td>10</td>\n",
       "      <td>[T1, T7]</td>\n",
       "      <td>montgomery city data smart system transit publ...</td>\n",
       "      <td>montgomery montgomerys cities citys smart city...</td>\n",
       "    </tr>\n",
       "    <tr>\n",
       "      <th>4</th>\n",
       "      <td>AZ Scottsdale AZ</td>\n",
       "      <td>Federal Agency Name:   U.S. Department of Tran...</td>\n",
       "      <td>federal agency yous department transportation ...</td>\n",
       "      <td>8</td>\n",
       "      <td>[T6, T7]</td>\n",
       "      <td>city transportation scotsdale system data ariz...</td>\n",
       "      <td>citys cities transportation transported transp...</td>\n",
       "    </tr>\n",
       "    <tr>\n",
       "      <th>5</th>\n",
       "      <td>AZ Tucson</td>\n",
       "      <td>Tucson Smart City Demonstration Proposal\\nPart...</td>\n",
       "      <td>tucson smart city demonstration proposal visio...</td>\n",
       "      <td>25</td>\n",
       "      <td>[T8, T5]</td>\n",
       "      <td>tucson city smart data arizona demonstration v...</td>\n",
       "      <td>tucsons tucsone data tucson smart city citys c...</td>\n",
       "    </tr>\n",
       "  </tbody>\n",
       "</table>\n",
       "</div>"
      ],
      "text/plain": [
       "               city                                           raw text  \\\n",
       "1      AK Anchorage  CONTENTS \\n1 VISION .............................   \n",
       "2     AL Birmingham  aBirmingham\\nRising\\nBirmingham Rising! Meetin...   \n",
       "3     AL Montgomery  U.S. Department of Transportation - “BEYOND TR...   \n",
       "4  AZ Scottsdale AZ  Federal Agency Name:   U.S. Department of Tran...   \n",
       "5         AZ Tucson  Tucson Smart City Demonstration Proposal\\nPart...   \n",
       "\n",
       "                                          clean text  clusterid   topicids  \\\n",
       "1  contents vision population characteristics sit...         12  [T11, T0]   \n",
       "2  abirmingham rising birmingham rising meeting c...          3   [T1, T0]   \n",
       "3  yous department transportation traffic smart c...         10   [T1, T7]   \n",
       "4  federal agency yous department transportation ...          8   [T6, T7]   \n",
       "5  tucson smart city demonstration proposal visio...         25   [T8, T5]   \n",
       "\n",
       "                                             summary  \\\n",
       "1  anchorage data architecture ict smart vision o...   \n",
       "2  city birmingham transporta es smart ons data n...   \n",
       "3  montgomery city data smart system transit publ...   \n",
       "4  city transportation scotsdale system data ariz...   \n",
       "5  tucson city smart data arizona demonstration v...   \n",
       "\n",
       "                                            keywords  \n",
       "1  anchorages municipality anchorage municipal mu...  \n",
       "2  city citys birmingham birminghams transporta o...  \n",
       "3  montgomery montgomerys cities citys smart city...  \n",
       "4  citys cities transportation transported transp...  \n",
       "5  tucsons tucsone data tucson smart city citys c...  "
      ]
     },
     "execution_count": 159,
     "metadata": {},
     "output_type": "execute_result"
    }
   ],
   "source": [
    "Smart_City_Df2.head()"
   ]
  },
  {
   "cell_type": "markdown",
   "id": "39f9c240",
   "metadata": {},
   "source": [
    "## Gathering Applicant Summaries and Keywords\n",
    "\n",
    "For each smart city applicant, gather a summary and keywords that are important to that document. You can use gensim to do this. Here are examples of functions that you could use.\n",
    "\n",
    "```python\n",
    "\n",
    "from gensim.summarization import summarize\n",
    "\n",
    "def summary(text, ratio=0.2, word_count=250, split=False):\n",
    "    return summarize(text, ratio= ratio, word_count=word_count, split=split)\n",
    "    \n",
    "from gensim.summarization import keywords\n",
    "\n",
    "def keys(text, ratio=0.01):\n",
    "    return keywords(text, ratio=ratio)\n",
    "```"
   ]
  },
  {
   "cell_type": "markdown",
   "id": "2d27ce37",
   "metadata": {},
   "source": [
    "### Add Summaries and Keywords\n",
    "Add summary and keywords to output file."
   ]
  },
  {
   "cell_type": "code",
   "execution_count": 637,
   "id": "0545b649",
   "metadata": {},
   "outputs": [
    {
     "name": "stdout",
     "output_type": "stream",
     "text": [
      "Requirement already satisfied: gensim==3.6.0 in c:\\users\\rohan\\appdata\\local\\programs\\python\\python39\\lib\\site-packages (3.6.0)\n",
      "Requirement already satisfied: numpy>=1.11.3 in c:\\users\\rohan\\appdata\\local\\programs\\python\\python39\\lib\\site-packages (from gensim==3.6.0) (1.22.1)\n",
      "Requirement already satisfied: scipy>=0.18.1 in c:\\users\\rohan\\appdata\\local\\programs\\python\\python39\\lib\\site-packages (from gensim==3.6.0) (1.7.3)\n",
      "Requirement already satisfied: six>=1.5.0 in c:\\users\\rohan\\appdata\\local\\programs\\python\\python39\\lib\\site-packages (from gensim==3.6.0) (1.16.0)\n",
      "Requirement already satisfied: smart-open>=1.2.1 in c:\\users\\rohan\\appdata\\local\\programs\\python\\python39\\lib\\site-packages (from gensim==3.6.0) (6.3.0)\n"
     ]
    }
   ],
   "source": [
    "!pip install gensim==3.6.0"
   ]
  },
  {
   "cell_type": "code",
   "execution_count": 67,
   "id": "f14416ed",
   "metadata": {},
   "outputs": [],
   "source": [
    "from nltk.tokenize import word_tokenize\n",
    "from nltk.corpus import stopwords\n",
    "import nltk\n",
    "from collections import Counter"
   ]
  },
  {
   "cell_type": "code",
   "execution_count": 68,
   "id": "1cc41aef",
   "metadata": {},
   "outputs": [],
   "source": [
    "def summarize_text(text):\n",
    "    # tokenize the text into individual words\n",
    "    words = nltk.word_tokenize(text)\n",
    "\n",
    "    # remove stop words such as 'a', 'the', 'is', etc.\n",
    "    stopwords = set(nltk.corpus.stopwords.words('english'))\n",
    "    words = [word for word in words if word.lower() not in stopwords]\n",
    "\n",
    "    # count the frequency of each word\n",
    "    word_freq = Counter(words)\n",
    "\n",
    "    # get the 5 most common words and phrases\n",
    "    summary = [word for word, _ in word_freq.most_common(100)]\n",
    "\n",
    "    # join the summary words into a single sentence\n",
    "    summary = ' '.join(summary)\n",
    "\n",
    "    return summary\n"
   ]
  },
  {
   "cell_type": "code",
   "execution_count": 69,
   "id": "7cec71f9",
   "metadata": {},
   "outputs": [],
   "source": [
    "Smart_City_Df2['summary'] = Smart_City_Df2['clean'].apply(summarize_text)"
   ]
  },
  {
   "cell_type": "code",
   "execution_count": 70,
   "id": "c09357ff",
   "metadata": {},
   "outputs": [],
   "source": [
    "from gensim.summarization import keywords\n",
    "\n",
    "def keys(text, ratio=0.01):\n",
    "    return keywords(text, ratio=ratio).replace('\\n',' ')"
   ]
  },
  {
   "cell_type": "code",
   "execution_count": 71,
   "id": "bf73096a",
   "metadata": {},
   "outputs": [],
   "source": [
    "Smart_City_Df2['keywords'] = Smart_City_Df2['clean'].apply(keys)"
   ]
  },
  {
   "cell_type": "code",
   "execution_count": 90,
   "id": "9b9741d4",
   "metadata": {},
   "outputs": [
    {
     "data": {
      "text/html": [
       "<div>\n",
       "<style scoped>\n",
       "    .dataframe tbody tr th:only-of-type {\n",
       "        vertical-align: middle;\n",
       "    }\n",
       "\n",
       "    .dataframe tbody tr th {\n",
       "        vertical-align: top;\n",
       "    }\n",
       "\n",
       "    .dataframe thead th {\n",
       "        text-align: right;\n",
       "    }\n",
       "</style>\n",
       "<table border=\"1\" class=\"dataframe\">\n",
       "  <thead>\n",
       "    <tr style=\"text-align: right;\">\n",
       "      <th></th>\n",
       "      <th>city</th>\n",
       "      <th>raw text</th>\n",
       "      <th>clean text</th>\n",
       "      <th>clusterid</th>\n",
       "      <th>topicids</th>\n",
       "      <th>summary</th>\n",
       "      <th>keywords</th>\n",
       "    </tr>\n",
       "  </thead>\n",
       "  <tbody>\n",
       "    <tr>\n",
       "      <th>1</th>\n",
       "      <td>AK Anchorage</td>\n",
       "      <td>CONTENTS \\n1 VISION .............................</td>\n",
       "      <td>contents vision population characteristics sit...</td>\n",
       "      <td>12</td>\n",
       "      <td>[T11, T0]</td>\n",
       "      <td>anchorage data architecture ict smart vision o...</td>\n",
       "      <td>anchorages municipality anchorage municipal mu...</td>\n",
       "    </tr>\n",
       "    <tr>\n",
       "      <th>2</th>\n",
       "      <td>AL Birmingham</td>\n",
       "      <td>aBirmingham\\nRising\\nBirmingham Rising! Meetin...</td>\n",
       "      <td>abirmingham rising birmingham rising meeting c...</td>\n",
       "      <td>3</td>\n",
       "      <td>[T1, T0]</td>\n",
       "      <td>city birmingham transporta es smart ons data n...</td>\n",
       "      <td>city citys birmingham birminghams transporta o...</td>\n",
       "    </tr>\n",
       "    <tr>\n",
       "      <th>3</th>\n",
       "      <td>AL Montgomery</td>\n",
       "      <td>U.S. Department of Transportation - “BEYOND TR...</td>\n",
       "      <td>yous department transportation traffic smart c...</td>\n",
       "      <td>10</td>\n",
       "      <td>[T1, T7]</td>\n",
       "      <td>montgomery city data smart system transit publ...</td>\n",
       "      <td>montgomery montgomerys cities citys smart city...</td>\n",
       "    </tr>\n",
       "    <tr>\n",
       "      <th>4</th>\n",
       "      <td>AZ Scottsdale AZ</td>\n",
       "      <td>Federal Agency Name:   U.S. Department of Tran...</td>\n",
       "      <td>federal agency yous department transportation ...</td>\n",
       "      <td>8</td>\n",
       "      <td>[T6, T7]</td>\n",
       "      <td>city transportation scotsdale system data ariz...</td>\n",
       "      <td>citys cities transportation transported transp...</td>\n",
       "    </tr>\n",
       "    <tr>\n",
       "      <th>5</th>\n",
       "      <td>AZ Tucson</td>\n",
       "      <td>Tucson Smart City Demonstration Proposal\\nPart...</td>\n",
       "      <td>tucson smart city demonstration proposal visio...</td>\n",
       "      <td>25</td>\n",
       "      <td>[T8, T5]</td>\n",
       "      <td>tucson city smart data arizona demonstration v...</td>\n",
       "      <td>tucsons tucsone data tucson smart city citys c...</td>\n",
       "    </tr>\n",
       "  </tbody>\n",
       "</table>\n",
       "</div>"
      ],
      "text/plain": [
       "               city                                           raw text  \\\n",
       "1      AK Anchorage  CONTENTS \\n1 VISION .............................   \n",
       "2     AL Birmingham  aBirmingham\\nRising\\nBirmingham Rising! Meetin...   \n",
       "3     AL Montgomery  U.S. Department of Transportation - “BEYOND TR...   \n",
       "4  AZ Scottsdale AZ  Federal Agency Name:   U.S. Department of Tran...   \n",
       "5         AZ Tucson  Tucson Smart City Demonstration Proposal\\nPart...   \n",
       "\n",
       "                                          clean text  clusterid   topicids  \\\n",
       "1  contents vision population characteristics sit...         12  [T11, T0]   \n",
       "2  abirmingham rising birmingham rising meeting c...          3   [T1, T0]   \n",
       "3  yous department transportation traffic smart c...         10   [T1, T7]   \n",
       "4  federal agency yous department transportation ...          8   [T6, T7]   \n",
       "5  tucson smart city demonstration proposal visio...         25   [T8, T5]   \n",
       "\n",
       "                                             summary  \\\n",
       "1  anchorage data architecture ict smart vision o...   \n",
       "2  city birmingham transporta es smart ons data n...   \n",
       "3  montgomery city data smart system transit publ...   \n",
       "4  city transportation scotsdale system data ariz...   \n",
       "5  tucson city smart data arizona demonstration v...   \n",
       "\n",
       "                                            keywords  \n",
       "1  anchorages municipality anchorage municipal mu...  \n",
       "2  city citys birmingham birminghams transporta o...  \n",
       "3  montgomery montgomerys cities citys smart city...  \n",
       "4  citys cities transportation transported transp...  \n",
       "5  tucsons tucsone data tucson smart city citys c...  "
      ]
     },
     "execution_count": 90,
     "metadata": {},
     "output_type": "execute_result"
    }
   ],
   "source": [
    "Smart_City_Df2.head()"
   ]
  },
  {
   "cell_type": "code",
   "execution_count": 79,
   "id": "92506ce8",
   "metadata": {},
   "outputs": [],
   "source": [
    "Smart_City_Df2.rename(columns={'City':'city','Text':'raw text','clean':'clean text','cluster_id':'clusterid','topics':'topicids'},inplace=True)"
   ]
  },
  {
   "cell_type": "code",
   "execution_count": 73,
   "id": "aad3c339",
   "metadata": {},
   "outputs": [],
   "source": [
    "Smart_City_Df2.drop(['token_clean','topic'],inplace=True,axis=1)"
   ]
  },
  {
   "cell_type": "markdown",
   "id": "4f9cb2c4",
   "metadata": {},
   "source": [
    "## Write output data\n",
    "\n",
    "The output data should be written as a TSV file.\n",
    "You can use `to_csv` method from Pandas for this if you are using a DataFrame.\n",
    "\n",
    "`Syntax: df.to_csv('file.tsv', sep = '')` \\\n",
    "`df.to_csv('smartcity_eda.tsv', sep='\\t')`"
   ]
  },
  {
   "cell_type": "code",
   "execution_count": 141,
   "id": "42a3d398",
   "metadata": {},
   "outputs": [],
   "source": [
    "Smart_City_Df2.to_csv('smartcity_eda.tsv', sep='\\t',index=False)"
   ]
  },
  {
   "cell_type": "code",
   "execution_count": 2,
   "id": "0ba01bb3",
   "metadata": {},
   "outputs": [],
   "source": [
    "import pandas as pd\n",
    "smartcity_predict = pd.DataFrame(columns=['city','raw text','clean text','clusterid','summary','keywords'])"
   ]
  },
  {
   "cell_type": "code",
   "execution_count": 3,
   "id": "1732aa84",
   "metadata": {},
   "outputs": [],
   "source": [
    "smartcity_predict.to_csv('smartcity_predict.tsv',sep='\\t',index=False)"
   ]
  },
  {
   "cell_type": "markdown",
   "id": "7a18b8ff",
   "metadata": {},
   "source": [
    "# Moving Forward\n",
    "Now that you have explored the dataset, take the important features and functions to create your `project3.py`.\n",
    "Please refer to the project spec for more guidance.\n"
   ]
  },
  {
   "cell_type": "markdown",
   "id": "0a6675ba",
   "metadata": {},
   "source": []
  }
 ],
 "metadata": {
  "kernelspec": {
   "display_name": "Python 3 (ipykernel)",
   "language": "python",
   "name": "python3"
  },
  "language_info": {
   "codemirror_mode": {
    "name": "ipython",
    "version": 3
   },
   "file_extension": ".py",
   "mimetype": "text/x-python",
   "name": "python",
   "nbconvert_exporter": "python",
   "pygments_lexer": "ipython3",
   "version": "3.9.6"
  }
 },
 "nbformat": 4,
 "nbformat_minor": 5
}
